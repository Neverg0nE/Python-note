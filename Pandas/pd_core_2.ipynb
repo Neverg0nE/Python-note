{
 "cells": [
  {
   "cell_type": "code",
   "id": "initial_id",
   "metadata": {
    "collapsed": true,
    "ExecuteTime": {
     "end_time": "2025-08-18T12:02:05.139132Z",
     "start_time": "2025-08-18T12:02:04.781836Z"
    }
   },
   "source": [
    "import pandas as pd\n",
    "from pyspark.sql.pandas.functions import pandas_udf"
   ],
   "outputs": [],
   "execution_count": 1
  },
  {
   "metadata": {},
   "cell_type": "markdown",
   "source": "# 四、对象的运算",
   "id": "f10b7b24acf40372"
  },
  {
   "metadata": {},
   "cell_type": "markdown",
   "source": "### 4.1 对象与系数之间的运算\n",
   "id": "2521a27d680548ee"
  },
  {
   "metadata": {},
   "cell_type": "code",
   "source": [
    "# 纯数字直接做运算\n",
    "sr = pd.Series([1,2,3], index=['a','b','c'])\n",
    "print(sr,'\\n')\n",
    "sr = sr +10\n",
    "print(sr,'\\n')\n",
    "sr = sr * 2\n",
    "print(sr)"
   ],
   "id": "aeccc9adbf9f88fb",
   "outputs": [],
   "execution_count": null
  },
  {
   "metadata": {},
   "cell_type": "code",
   "outputs": [],
   "execution_count": null,
   "source": [
    "# object对象先提取再运算\n",
    "v = [[53,'female'],[28,'male'],[49,'male']]\n",
    "i = ['a','b','c']\n",
    "df = pd.DataFrame(v, index=i, columns=['age','gender'])\n",
    "print(df,'\\n')\n",
    "df['age'] = df[\"age\"] + 10\n",
    "print(df)"
   ],
   "id": "7b9a746df9d0c24a"
  },
  {
   "metadata": {},
   "cell_type": "markdown",
   "source": [
    "### 4.2 对象与对象之间的运算\n",
    "必须保证都是数字型对象，维度可以不同"
   ],
   "id": "425dbd9c118bc9af"
  },
  {
   "metadata": {},
   "cell_type": "code",
   "source": [
    "v1 = [10,20,30,40]\n",
    "k1 = ['a','b','c','d']\n",
    "sr1 = pd.Series(v1,index=k1)\n",
    "print(sr1,'\\n')\n",
    "v2 = [10,20,30]\n",
    "k2 = ['a','b','c']\n",
    "sr2 = pd.Series(v2,index=k2)\n",
    "print(sr2)"
   ],
   "id": "fd309845ee75c924",
   "outputs": [],
   "execution_count": null
  },
  {
   "metadata": {},
   "cell_type": "code",
   "source": [
    "# 一维对象之间的运算\n",
    "print(sr1+sr2)\n",
    "print()\n",
    "print(sr1-sr2)\n",
    "# 两个Series 对象相加时，会按照索引进行对齐。如果索引不一致，则结果中缺失的值为 NaN。"
   ],
   "id": "fcc90c607c0d9fd9",
   "outputs": [],
   "execution_count": null
  },
  {
   "metadata": {},
   "cell_type": "code",
   "source": [
    "v1 = [[53,\"female\"],[64,\"male\"],[73,\"male\"],[49,\"female\"]]\n",
    "v2 = [1,2,3,4]\n",
    "i1 = [\"1号\",\"2号\",\"3号\",\"4号\"]\n",
    "i2 = [\"1号\",\"2号\",\"3号\",\"6号\"]\n",
    "c1 = [\"age\",\"gender\"]\n",
    "c2 = [\"id\"]\n",
    "df1 = pd.DataFrame(v1,index=i1,columns=c1)\n",
    "df2 = pd.DataFrame(v2, index=i2,columns=c2)\n",
    "print(df1,'\\n')\n",
    "print(df2)"
   ],
   "id": "e9da47dae0e65622",
   "outputs": [],
   "execution_count": null
  },
  {
   "metadata": {},
   "cell_type": "code",
   "source": [
    "# 二维对象之间的运算（加减乘除幂均可）\n",
    "df1[\"add\"] = df1['age'] + df2['id']          # 没有共同4号，所以4号为NaN\n",
    "df1"
   ],
   "id": "835c111e5eb188ea",
   "outputs": [],
   "execution_count": null
  },
  {
   "metadata": {},
   "cell_type": "code",
   "source": [
    "# 其他函数运算（建立在numpy上）[np.abs,np.exp,np.log等]\n",
    "import numpy as np\n",
    "v = [[53,\"female\"],[64,\"male\"],[73,\"male\"],[49,\"female\"]]\n",
    "i = [\"1号\",\"2号\",\"3号\",\"4号\"]\n",
    "c = [\"age\",\"gender\"]\n",
    "df = pd.DataFrame(v,index=i,columns=c)\n",
    "print(df,'\\n')\n",
    "np.cos(df[\"age\"])           # 得到cos值"
   ],
   "id": "44074c3158f8cb4b",
   "outputs": [],
   "execution_count": null
  },
  {
   "metadata": {},
   "cell_type": "code",
   "source": [
    "# 1.pandas中的布尔类型\n",
    "import numpy as np\n",
    "print(df[\"age\"]>50)\n",
    "print( (df[\"age\"]>60)&(df[\"age\"]<80) )\n",
    "print(  np.sum(    (df[\"age\"]>60)&(df[\"age\"]<80)    )   )           # bool 中的 sum"
   ],
   "id": "c11665d3d3e9deb0",
   "outputs": [],
   "execution_count": null
  },
  {
   "metadata": {},
   "cell_type": "code",
   "source": [
    "# 2.pandas中的布尔类型,bool掩码用于筛选数据\n",
    "a = df[\"age\"] > 60\n",
    "print(a)\n",
    "print(df[\"age\"][a])           # 写法一\n",
    "print()\n",
    "df[a]                         # 写法二"
   ],
   "id": "c7447ff6b992de24",
   "outputs": [],
   "execution_count": null
  },
  {
   "metadata": {},
   "cell_type": "markdown",
   "source": "# 五、对象的缺失值",
   "id": "c48656feac51f00f"
  },
  {
   "metadata": {
    "ExecuteTime": {
     "end_time": "2025-08-17T02:43:59.483196Z",
     "start_time": "2025-08-17T02:43:59.471777Z"
    }
   },
   "cell_type": "markdown",
   "source": [
    "### 5.1 发现缺失值\n",
    ".isnull()方法"
   ],
   "id": "a6be5ae08fd025c2"
  },
  {
   "metadata": {},
   "cell_type": "code",
   "source": [
    "# 缺失值与非缺失值\n",
    "v = [[53,\"female\"],[None,\"male\"],[73,\"male\"],[49,\"female\"]]\n",
    "i = [\"1号\",\"2号\",\"3号\",\"4号\"]\n",
    "c = [\"age\",\"gender\"]\n",
    "df = pd.DataFrame(v,index=i,columns=c)\n",
    "print(df,'\\n')\n",
    "print(df.isnull())          # True即为缺失值\n",
    "print()\n",
    "print(df.notnull())         # False即为非缺失值  或者接在df.isnull前加~即~df.isnull得到非缺失值"
   ],
   "id": "6a24997c91eed63d",
   "outputs": [],
   "execution_count": null
  },
  {
   "metadata": {},
   "cell_type": "markdown",
   "source": [
    "### 5.2 剔除缺失值\n",
    ".dropna()方法"
   ],
   "id": "2ca6b5a3da7eddbf"
  },
  {
   "metadata": {},
   "cell_type": "code",
   "source": [
    "# 剔除一维对象缺失值\n",
    "v = [53,None,49,20]\n",
    "i = [\"1号\",\"2号\",\"3号\",\"4号\"]\n",
    "sr = pd.Series(v,index=i)\n",
    "print(df,'\\n')\n",
    "print(sr.dropna())               # 默认剔除有缺失值的行，列比行重要"
   ],
   "id": "668afa9fe35d2fd7",
   "outputs": [],
   "execution_count": null
  },
  {
   "metadata": {},
   "cell_type": "code",
   "source": [
    "# 剔除二维对象缺失值\n",
    "v = [[53,\"female\"],[None,None],[73,None],[49,\"female\"]]\n",
    "i = [\"1号\",\"2号\",\"3号\",\"4号\"]\n",
    "c = [\"age\",\"gender\"]\n",
    "df = pd.DataFrame(v,index=i,columns=c)\n",
    "print(df,'\\n')\n",
    "print(df.dropna())               # .dropna(axis=1)剔除列"
   ],
   "id": "66a6db872f619312",
   "outputs": [],
   "execution_count": null
  },
  {
   "metadata": {},
   "cell_type": "code",
   "source": [
    "# 剔除df全是NaN的个体\n",
    "print(df.dropna(how=\"all\"))     # 只有一行都是缺失值才剔除"
   ],
   "id": "2a103741647ffe47",
   "outputs": [],
   "execution_count": null
  },
  {
   "metadata": {},
   "cell_type": "markdown",
   "source": [
    "### 5.3 填充缺失值\n",
    ".fillna()"
   ],
   "id": "9026130dddb3a0db"
  },
  {
   "metadata": {},
   "cell_type": "code",
   "source": [
    "import numpy as np\n",
    "v = [1,2,None,4]\n",
    "i =[1,2,3,4]\n",
    "sr = pd.Series(v,index=i)\n",
    "print(sr)\n",
    "print()\n",
    "# 0填充缺失值\n",
    "print(sr.fillna(0))\n",
    "print()\n",
    "# 均值填充\n",
    "print(sr.fillna(np.mean(sr)))\n",
    "print()\n",
    "# 前/后值填充\n",
    "print(sr.ffill())    # 前\n",
    "print()\n",
    "print(sr.bfill())    # 后"
   ],
   "id": "14357e04dfc18d4e",
   "outputs": [],
   "execution_count": null
  },
  {
   "metadata": {},
   "cell_type": "markdown",
   "source": "# 六、导入Excel文件和数据分析",
   "id": "2b2b1e57ed1cf326"
  },
  {
   "metadata": {},
   "cell_type": "markdown",
   "source": [
    "- 安装openpyxl库\n",
    "- 将创建好的文件导入到此项目的文件夹\n",
    "- 使用pd.read_excel('文件名')命令导入"
   ],
   "id": "a728626325b65113"
  },
  {
   "metadata": {},
   "cell_type": "markdown",
   "source": "### 6.1 聚合方法",
   "id": "87466fe1b185a78f"
  },
  {
   "metadata": {},
   "cell_type": "code",
   "source": [
    "# 导入.xlsx\n",
    "df = pd.read_excel('Pandas测试表.xlsx')\n",
    "print(df)\n",
    "print()\n",
    "df.head()            # 查看前五行"
   ],
   "id": "c75d812a80702c56",
   "outputs": [],
   "execution_count": null
  },
  {
   "metadata": {},
   "cell_type": "code",
   "source": [
    "# 查看最大值和最小值,可以在括号里写axis = 1，比较每一行最大值，但没有意义\n",
    "print(df.min())\n",
    "print()\n",
    "print(df.max())\n",
    "print()\n",
    "print(df.sum(numeric_only=True))"
   ],
   "id": "d87d501bb816ea82",
   "outputs": [],
   "execution_count": null
  },
  {
   "metadata": {},
   "cell_type": "code",
   "source": [
    "# 计算均值\n",
    "print(df.mean(numeric_only=True))         # 内参数意为：自动跳过非数值列\n",
    "print()\n",
    "# 计算标准差\n",
    "print(df.std(numeric_only=True))"
   ],
   "id": "5815cd9d9aea5e03",
   "outputs": [],
   "execution_count": null
  },
  {
   "metadata": {},
   "cell_type": "markdown",
   "source": "### 6.2 描述方法\n",
   "id": "4ec069d62223477"
  },
  {
   "metadata": {},
   "cell_type": "code",
   "source": [
    "# 获取表格各个常用指标\n",
    "df.describe()"
   ],
   "id": "21c564f395e30a73",
   "outputs": [],
   "execution_count": null
  },
  {
   "metadata": {},
   "cell_type": "markdown",
   "source": [
    "### 6.3 数据透视\n",
    "pivot_table()中有很重要的参数aggfunc，其默认值是mean，也可以使用其他聚合函数max（）min（）等，此处mean是最好的选择计算出来即为概率"
   ],
   "id": "96da3fc0c13cbbf0"
  },
  {
   "metadata": {},
   "cell_type": "code",
   "source": [
    "# 生还概率和哪些因素有关\n",
    "df = pd.read_excel('Test.xlsx')\n",
    "df.head()"
   ],
   "id": "2fb76dc9fe51acf4",
   "outputs": [],
   "execution_count": null
  },
  {
   "metadata": {},
   "cell_type": "code",
   "source": [
    "# 考察和性别因素\n",
    "df.pivot_table('alive',index='gender')"
   ],
   "id": "fc20b97831a35a71",
   "outputs": [],
   "execution_count": null
  },
  {
   "metadata": {},
   "cell_type": "code",
   "source": [
    "# 考察和性别还有船舱等级\n",
    "df.pivot_table('alive',index='gender',columns=\"level\")"
   ],
   "id": "c013474905881534",
   "outputs": [],
   "execution_count": null
  },
  {
   "metadata": {},
   "cell_type": "code",
   "source": [
    "# ，重置age列，先用pd.cut()对age分层处理\n",
    "age = pd.cut( df[\"age\"],[17,65,100])            # 以65岁为分水岭，也可以写[17,30,65,100]三部分\n",
    "age"
   ],
   "id": "5038f9cfae10f28b",
   "outputs": [],
   "execution_count": null
  },
  {
   "metadata": {},
   "cell_type": "code",
   "source": [
    "# 再套入进行多特征数据透视处理\n",
    "df.pivot_table(\"alive\",index=[\"gender\",age],columns=\"level\",observed=True) # 默认observed=False，空值也算上。注意此处age为变量无“”"
   ],
   "id": "e39b1a323679d622",
   "outputs": [],
   "execution_count": null
  },
  {
   "metadata": {},
   "cell_type": "code",
   "source": [
    "# 重置cost列\n",
    "cost = pd.qcut(df[\"cost\"],2)      # 自动分割为两部分，分3部分设置3\n",
    "cost"
   ],
   "id": "ee74b1b1fdf08995",
   "outputs": [],
   "execution_count": null
  },
  {
   "metadata": {},
   "cell_type": "code",
   "source": "df.pivot_table(\"alive\",index=[\"level\",cost],columns=[\"gender\",age],observed=True)  # 注意此处cost和age无“”",
   "id": "586c128fbacb58a4",
   "outputs": [],
   "execution_count": null
  }
 ],
 "metadata": {
  "kernelspec": {
   "display_name": "CL",
   "language": "python",
   "name": "cl"
  },
  "language_info": {
   "codemirror_mode": {
    "name": "ipython",
    "version": 2
   },
   "file_extension": ".py",
   "mimetype": "text/x-python",
   "name": "python",
   "nbconvert_exporter": "python",
   "pygments_lexer": "ipython2",
   "version": "2.7.6"
  }
 },
 "nbformat": 4,
 "nbformat_minor": 5
}
