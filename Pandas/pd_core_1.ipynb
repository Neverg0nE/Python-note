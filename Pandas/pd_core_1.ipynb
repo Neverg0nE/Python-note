{
 "cells": [
  {
   "cell_type": "code",
   "id": "initial_id",
   "metadata": {
    "collapsed": true,
    "ExecuteTime": {
     "end_time": "2025-08-18T12:01:46.257967Z",
     "start_time": "2025-08-18T12:01:45.901904Z"
    }
   },
   "source": "import pandas as pd",
   "outputs": [],
   "execution_count": 1
  },
  {
   "metadata": {},
   "cell_type": "markdown",
   "source": "# 一、对象的创建",
   "id": "4bdd2201f02deede"
  },
  {
   "metadata": {},
   "cell_type": "markdown",
   "source": "### 1.1 一维对象的创建",
   "id": "649aa7738f2108c8"
  },
  {
   "metadata": {},
   "cell_type": "code",
   "source": [
    "# 字典创建法\n",
    "dict_v={\"a\":0,\"b\":0.25,\"c\":0.5,\"d\":0.75,\"e\":1}\n",
    "print(dict_v)\n",
    "sr = pd.Series(dict_v)                           # 用字典创建对象\n",
    "print(sr)                                        # 纯文本形式，直接打印字符串表示，没有表格样式。\n",
    "sr"
   ],
   "id": "9d08091c03733b56",
   "outputs": [],
   "execution_count": null
  },
  {
   "metadata": {},
   "cell_type": "code",
   "outputs": [],
   "execution_count": null,
   "source": [
    "# 通过字典将多个Series组合成一个Dataframe，同样也是字典创建法\n",
    "i = [\"1号\",\"2号\",\"3号\",\"4号\"]\n",
    "v1 = [53,34,24,39]\n",
    "v2 = [\"female\",\"male\",\"male\",\"female\"]\n",
    "sr1 = pd.Series(v1,index=i)\n",
    "sr2 = pd.Series(v2,index=i)\n",
    "df = pd.DataFrame({\"age\":sr1,\"gender\":sr2})\n",
    "df"
   ],
   "id": "80e456d66eeaca16"
  },
  {
   "metadata": {},
   "cell_type": "code",
   "source": [
    "# 数组创建法\n",
    "import numpy as np\n",
    "v1 = [1,2,3,4,5]                              # 列表\n",
    "v2 = np.array([1,2,3,4,5])                    # numpy数组\n",
    "k = [\"a\",\"b\",\"c\",\"d\",\"e\"]                     # 定义键值，值可以是（列表，数组或者张量）\n",
    "\n",
    "sr1 = pd.Series(v1,index=k)                   # 用列表创建对象并指定索引\n",
    "sr2 = pd.Series(v2)                           # 用数组创建对象并指定索引,index可以省略，省略后从0开始顺序数字\n",
    "\n",
    "sr1\n",
    "# sr2                                         # 取消注释查看不同结果"
   ],
   "id": "6d06877486f1c90f",
   "outputs": [],
   "execution_count": null
  },
  {
   "metadata": {},
   "cell_type": "code",
   "source": [
    "# 利用双线程同时查看结果但是得不到表格......\n",
    "import threading\n",
    "import pandas as pd\n",
    "\n",
    "\n",
    "def list_func():\n",
    "    v1 = [1, 2, 3, 4, 5]\n",
    "    k = [\"a\",\"b\",\"c\",\"d\",\"e\"]\n",
    "    sr1 = pd.Series(v1,index=k)\n",
    "    print(sr1)\n",
    "\n",
    "def np_func():\n",
    "    v2 = np.array([1, 2, 3, 4, 5])\n",
    "    sr2 = pd.Series(v2)\n",
    "    print(sr2)\n",
    "\n",
    "a = threading.Thread(target=list_func)\n",
    "a.start()\n",
    "b = threading.Thread(target=np_func)\n",
    "b.start()"
   ],
   "id": "78f602f130d3aa23",
   "outputs": [],
   "execution_count": null
  },
  {
   "metadata": {},
   "cell_type": "markdown",
   "source": "### 1.2 一维对象的属性（values，index）",
   "id": "863af5509546d184"
  },
  {
   "metadata": {},
   "cell_type": "code",
   "source": [
    "# 列表得到的values为数组，同理张量还有数组也是\n",
    "v = [345,6346,234,465]\n",
    "k = [\"1号\",\"2号\",\"3号\",\"4号\"]\n",
    "sr = pd.Series(v,index=k)       # 列表创建sr\n",
    "print(sr)                       # 查看序列\n",
    "print(sr.values)                # 查看values属性\n",
    "sr.index                        # 查看index属性"
   ],
   "id": "e3b09719249257ad",
   "outputs": [],
   "execution_count": null
  },
  {
   "metadata": {
    "SqlCellData": {
     "variableName$1": "df_sql1"
    }
   },
   "cell_type": "markdown",
   "source": "### 1.3 二维数组的创建",
   "id": "fa9d20228bff33b5"
  },
  {
   "metadata": {},
   "cell_type": "markdown",
   "source": "- 字典创建法",
   "id": "4b70f9fee6e2b03f"
  },
  {
   "metadata": {},
   "cell_type": "code",
   "source": [
    "v1 = [53,64,74,42]\n",
    "i = [\"1号\",\"2号\",\"3号\",\"4号\"]\n",
    "sr1 = pd.Series(v1,index=i)\n",
    "sr1"
   ],
   "id": "d9293481fa1f1c8c",
   "outputs": [],
   "execution_count": null
  },
  {
   "metadata": {},
   "cell_type": "code",
   "source": [
    "v2 = [\"female\",\"male\",\"male\",\"female\"]\n",
    "i = [\"1号\",\"2号\",\"3号\",\"4号\"]\n",
    "sr2 = pd.Series(v2,index=i)\n",
    "sr2"
   ],
   "id": "5f8d23816058ecd",
   "outputs": [],
   "execution_count": null
  },
  {
   "metadata": {},
   "cell_type": "code",
   "source": [
    "df=pd.DataFrame({\"年龄\":sr1,\"性别\":sr2})   # 创建df对象\n",
    "df\n",
    "# 若sr1与sr2的index不完全一致，index取交集，对象会缺失一定数量的值NaN（如把第二个4号改6号再运行）"
   ],
   "id": "c20421eaa7021d2d",
   "outputs": [],
   "execution_count": null
  },
  {
   "metadata": {},
   "cell_type": "markdown",
   "source": "- 数组创建法",
   "id": "c879375b03ca8e08"
  },
  {
   "metadata": {},
   "cell_type": "code",
   "source": [
    "import numpy as np\n",
    "# 设定键值\n",
    "v = np.array([[53,\"female\"],[64,\"male\"],[73,\"male\"],[49,\"female\"]])        # 也可以不用numpy模块（数组把数字转化为了字符串，v为字符串型数组）直接写 v = [[53,\"female\"],[64,\"male\"],[73,\"male\"],[49,\"female\"]]\n",
    "i = [\"1号\",\"2号\",\"3号\",\"4号\"]\n",
    "c = [\"age\",\"gender\"]\n",
    "# 创建数组\n",
    "df = pd.DataFrame(v,index=i,columns=c)\n",
    "df"
   ],
   "id": "a56b053066af5aee",
   "outputs": [],
   "execution_count": null
  },
  {
   "metadata": {},
   "cell_type": "markdown",
   "source": "### 1.4 二维对象的属性（values，index，columns）",
   "id": "9aefa90b085045bf"
  },
  {
   "metadata": {},
   "cell_type": "code",
   "source": [
    "v = [[53,\"female\"],[64,\"male\"],[73,\"male\"],[49,\"female\"]]\n",
    "i = [\"1号\",\"2号\",\"3号\",\"4号\"]\n",
    "c = [\"age\",\"gender\"]\n",
    "df = pd.DataFrame(v,index=i,columns=c)\n",
    "print(df.values)                  # 查看values属性\n",
    "print(df.index)                   # 查看index属性\n",
    "print(df.columns)                 # 查看columns属性"
   ],
   "id": "e54f64923036154a",
   "outputs": [],
   "execution_count": null
  },
  {
   "metadata": {},
   "cell_type": "code",
   "source": [
    "# 提取values中的第一列\n",
    "arr = df.values\n",
    "arr = arr[:,0].astype(int)      # 提取第[0]列，并转化为一个int数组\n",
    "print(arr)\n",
    "# 数组只能容纳一种变量类型，所以要astype（int）"
   ],
   "id": "1ba7a3fafca767ba",
   "outputs": [],
   "execution_count": null
  },
  {
   "metadata": {},
   "cell_type": "markdown",
   "source": [
    "# 二、对象的索引\n",
    "Pandas索引分显式索引和隐式索引。显式用Pandas对象提供的索引，隐式用数组本身自带的从0开始的索引。\n",
    "若索引为整数，则二者可能混淆，所以有索引器：loc（显式）和 iloc（隐式）"
   ],
   "id": "cce4ca9d5e6a52e8"
  },
  {
   "metadata": {},
   "cell_type": "markdown",
   "source": "### 2.1 一维对象的索引",
   "id": "f925dfc1ca8ae851"
  },
  {
   "metadata": {},
   "cell_type": "code",
   "source": [
    "# 访问和修改\n",
    "v = [53,34,24,39]\n",
    "i = [\"1号\",\"2号\",\"3号\",\"4号\"]\n",
    "sr = pd.Series(v,index=i)\n",
    "print(sr,'\\n')\n",
    "print(sr[\"3号\"],'\\n')                # 访问3号元素\n",
    "print(sr[['1号','3号']],'\\n')        # 花式索引\n",
    "sr['3号'] = 100                      # 修改\n",
    "print(sr)\n",
    "# 亦可以写sr.loc[\"3号\"]，输出结果一样(iloc也可）"
   ],
   "id": "881203d4fab253f",
   "outputs": [],
   "execution_count": null
  },
  {
   "metadata": {},
   "cell_type": "code",
   "source": [
    "v = [53,34,24,39]\n",
    "i = [\"1号\",\"2号\",\"3号\",\"4号\"]\n",
    "sr = pd.Series(v,index=i)\n",
    "print(sr,'\\n')\n",
    "# 访问切片（显示索引涵盖最后一个“2号”，隐式和numpy中的切片规则一样不涵盖\n",
    "print(sr[\"1号\":\"2号\"],'\\n')\n",
    "\n",
    "# 切片仅是视图\n",
    "cut = sr[\"1号\":\"2号\"]\n",
    "cut[\"1号\"] = 100\n",
    "print(sr,'\\n')\n",
    "\n",
    "# 对象赋值仅是绑定\n",
    "a = sr\n",
    "a[\"3号\"] = 200\n",
    "print(sr)\n",
    "# 亦可以写sr.;loc[\"1号\":\"2号\"],输出结果一样(iloc也可）"
   ],
   "id": "e295cf28dd22cf65",
   "outputs": [],
   "execution_count": null
  },
  {
   "metadata": {},
   "cell_type": "markdown",
   "source": [
    "### 2.2 二维对象的索引\n",
    "在二维对象中不能去掉索引器!!!\n",
    "- 列索引（columns）是 “显式可访问” 的：\n",
    "DataFrame 把列名设计成了类似 “属性” 的可直接访问对象，df[col_name] 本质上是对列索引的直接操作。这种设计让列操作更便捷，符合用户 “按列名取数据” 的直觉。\n",
    "- 行索引（index）是 “隐式需要定位” 的：\n",
    "行没有类似 “属性” 的直接访问方式，必须通过索引器（.loc/.iloc）明确指定位置。这是因为行的标识（索引）可能是整数、字符串等多种类型，且可能存在重复，需要通过 .loc 明确 “按标签定位行” 的逻辑。"
   ],
   "id": "1b3775bb058f0167"
  },
  {
   "metadata": {},
   "cell_type": "code",
   "source": [
    "# 二维对象中必须使用索引器，无混淆用.loc\n",
    "# 制表\n",
    "i = [\"1号\",\"2号\",\"3号\",\"4号\"]\n",
    "v1 = [53,34,24,39]\n",
    "v2 = [\"female\",\"male\",\"male\",\"female\"]\n",
    "sr1 = pd.Series(v1,index=i)\n",
    "sr2 = pd.Series(v2,index=i)\n",
    "df = pd.DataFrame({\"age\":sr1,\"gender\":sr2})\n",
    "print(df,'\\n')\n",
    "\n",
    "# 访问元素，必须带loc\n",
    "print(df.loc[\"1号\",\"age\"],'\\n')\n",
    "print(df.loc[[\"1号\",\"3号\"],[\"gender\",\"age\"]],'\\n')\n",
    "\n",
    "# 修改元素，必须带loc\n",
    "df.loc[\"3号\",\"age\"] = 100\n",
    "print(df)"
   ],
   "id": "73502ee22f5369c4",
   "outputs": [],
   "execution_count": null
  },
  {
   "metadata": {},
   "cell_type": "code",
   "source": [
    "# 二维对象中必须使用索引器，也可以使用.iloc\n",
    "# 制表\n",
    "i = [\"1号\",\"2号\",\"3号\",\"4号\"]\n",
    "v1 = [53,34,24,39]\n",
    "v2 = [\"female\",\"male\",\"male\",\"female\"]\n",
    "sr1 = pd.Series(v1,index=i)\n",
    "sr2 = pd.Series(v2,index=i)\n",
    "df = pd.DataFrame({\"age\":sr1,\"gender\":sr2})\n",
    "print(df,'\\n')\n",
    "\n",
    "# 用隐式索引访问元素，必须带iloc\n",
    "print(df.iloc[0,1])\n",
    "print()\n",
    "\n",
    "print(df.iloc[[0,2],[1,0]])          # iloc[行索引, 列索引]；选取第0、2行，第1、0列。始终保留 DataFrame 结构\n",
    "print()\n",
    "\n",
    "# 修改元素\n",
    "df.iloc[2,0] = 100\n",
    "print(df)"
   ],
   "id": "2d862bfd51697db6",
   "outputs": [],
   "execution_count": null
  },
  {
   "metadata": {},
   "cell_type": "code",
   "source": [
    "# 切片和显式索引\n",
    "v = np.array([[53,\"female\"],[64,\"male\"],[73,\"male\"],[49,\"female\"]])\n",
    "i = [\"a\",\"b\",\"c\",\"d\"]\n",
    "c = [\"age\",\"gender\"]\n",
    "df = pd.DataFrame(v,index=i,columns=c)\n",
    "print(df,'\\n')\n",
    "\n",
    "# 切片\n",
    "print(df.loc['a':'b','age'])      # 选取从索引'a'到索引'b'的所有行（包含端点），只选取 'age' 这一列\n",
    "print()\n",
    "\n",
    "print(df.loc['c',:])              # 选取索引为 'c' 的行，选取所有列(可以直接写df.loc['c']，隐式也可以，numpy如此)\n",
    "print()\n",
    "\n",
    "print(df.loc[:,\"age\"])            # 表示选取所有行，只选取 'age' 这一列（也可以直接写df[\"age\"]，numpy不行）"
   ],
   "id": "73a75302106ebfd6",
   "outputs": [],
   "execution_count": null
  },
  {
   "metadata": {},
   "cell_type": "code",
   "source": [
    "# 切片和隐式索引\n",
    "v = np.array([[53,\"female\"],[64,\"male\"],[73,\"male\"],[49,\"female\"]])\n",
    "i = [\"a\",\"b\",\"c\",\"d\"]\n",
    "c = [\"age\",\"gender\"]\n",
    "df = pd.DataFrame(v,index=i,columns=c)\n",
    "print(df,'\\n')\n",
    "\n",
    "print(df.iloc[0:3,0])            # 切片\n",
    "print()\n",
    "print(df.iloc[:,1])              # 提取第二列的所有元素\n",
    "print()\n",
    "print(df.iloc[1,:])              # 选取第二行的所有元素"
   ],
   "id": "cf8e22f5788423b0",
   "outputs": [],
   "execution_count": null
  },
  {
   "metadata": {
    "ExecuteTime": {
     "end_time": "2025-08-16T13:14:39.975800Z",
     "start_time": "2025-08-16T13:14:39.958295Z"
    }
   },
   "cell_type": "markdown",
   "source": "# 三、对象的变形",
   "id": "f81d97b0f9e8c50f"
  },
  {
   "metadata": {},
   "cell_type": "markdown",
   "source": "### 3.1 对象的转置",
   "id": "5ddef026a806734c"
  },
  {
   "metadata": {},
   "cell_type": "code",
   "source": [
    "# 创建畸形df\n",
    "v = [[23,24,25,26],[\"male\",\"female\",\"male\",\"female\"]]\n",
    "i = [\"age\",\"gender\"]\n",
    "c = [\"a\",\"b\",\"c\",\"d\"]\n",
    "df = pd.DataFrame(v,index=i,columns=c)\n",
    "print(df,'\\n')\n",
    "# 转置\n",
    "df = df.T\n",
    "df"
   ],
   "id": "bbcc04fbb7e8462e",
   "outputs": [],
   "execution_count": null
  },
  {
   "metadata": {},
   "cell_type": "markdown",
   "source": "### 3.2 对象的翻转",
   "id": "f8cd6e504ce1d565"
  },
  {
   "metadata": {},
   "cell_type": "code",
   "source": [
    "v = np.array([[53,\"female\"],[64,\"male\"],[73,\"male\"],[49,\"female\"]])\n",
    "i = [\"a\",\"b\",\"c\",\"d\"]\n",
    "c = [\"age\",\"gender\"]\n",
    "df = pd.DataFrame(v,index=i,columns=c)\n",
    "print(df,'\\n')\n",
    "\n",
    "\n",
    "# 左右翻转\n",
    "df = df.iloc[ : , : :-1]  # 选取所有行，对列逆序选取。\n",
    "print(df,'\\n')\n",
    "# 上下翻转\n",
    "df = df.iloc[ : : -1, : ] # 选取所有列，对行逆序选取。\n",
    "df"
   ],
   "id": "8a33593ef507f6",
   "outputs": [],
   "execution_count": null
  },
  {
   "metadata": {
    "ExecuteTime": {
     "end_time": "2025-08-16T13:24:29.916294Z",
     "start_time": "2025-08-16T13:24:29.898232Z"
    }
   },
   "cell_type": "markdown",
   "source": [
    "### 3.3 对象的重塑\n",
    "有关插入新行或新列：\n",
    "- df.loc[label] 是强制按行标签解析的（无论 label 是否在列名中，都只操作行）\n",
    "- df[label] 是优先按列名解析的（如果 label 是列名，则返回列；如果不是，可能报错或按其他规则处理）"
   ],
   "id": "3cf4357aae4548dc"
  },
  {
   "metadata": {},
   "cell_type": "code",
   "source": [
    "i = [\"a\",\"b\",\"c\",\"d\",\"e\"]\n",
    "v1 = [10,12,14,16,17]\n",
    "v2 = ['male','female','female','male','female']\n",
    "v3 = [1,2,3,4,5]\n",
    "sr1 = pd.Series(v1,index=i)\n",
    "sr2 = pd.Series(v2,index=i)\n",
    "sr3 = pd.Series(v3,index=i)\n",
    "# print(sr1,sr2,sr3)\n",
    "\n",
    "df = pd.DataFrame({\"age\":sr1,\"gender\":sr2})\n",
    "print(df)                    # 字典法创建df"
   ],
   "id": "3b0beae2f8722910",
   "outputs": [],
   "execution_count": null
  },
  {
   "metadata": {},
   "cell_type": "code",
   "source": [
    "# 插入第三列名：id\n",
    "df['id'] = sr3\n",
    "# 插入新的一行名：f\n",
    "df.loc[\"f\"] = [20,\"female\",6]         # 正规写法为：[\"f\",:]\n",
    "print(df)\n",
    "# 分离第一列出来\n",
    "sr4 = df[\"age\"]\n",
    "#print(sr4)\n"
   ],
   "id": "c2a7cee7ca850d2b",
   "outputs": [],
   "execution_count": null
  },
  {
   "metadata": {},
   "cell_type": "markdown",
   "source": "### 3.4 对象的拼接 pd.concat()函数",
   "id": "2a296a42419f2cdc"
  },
  {
   "metadata": {
    "ExecuteTime": {
     "end_time": "2025-08-16T13:51:27.000753Z",
     "start_time": "2025-08-16T13:51:26.985363Z"
    }
   },
   "cell_type": "code",
   "source": [
    "# 一维对象的合并\n",
    "k1 = [\"a\",\"b\",\"c\"]\n",
    "k2 = [\"d\",\"e\"]\n",
    "v1 = [10,12,14]\n",
    "v2 = [16,17]\n",
    "sr1 = pd.Series(v1,index=k1)\n",
    "sr2 = pd.Series(v2,index=k2)\n",
    "# 得到两个一维对象\n",
    "# sr1,sr2\n",
    "# 合并sr1和sr2\n",
    "pd.concat([sr1,sr2])"
   ],
   "id": "57a8b023f904f017",
   "outputs": [],
   "execution_count": 173
  },
  {
   "metadata": {},
   "cell_type": "code",
   "source": [
    "# .index.is_unique方法检查索引是否重复\n",
    "sr3 = pd.concat([sr1,sr2])\n",
    "# 查看索引\n",
    "sr3.index\n",
    "# 判断索引是否重复，返回True无重复，False有重复\n",
    "sr3.index.is_unique"
   ],
   "id": "477ba4c0f5330e06",
   "outputs": [],
   "execution_count": null
  },
  {
   "metadata": {},
   "cell_type": "code",
   "source": [
    "# 二维对象的合并\n",
    "i1 = ['n1','n2','n3','n4']\n",
    "i2 = ['n1','n2','n3','n4']\n",
    "i3 = ['n5','n6']\n",
    "v1 = [[10,\"female\"],[12,\"male\"],[14,\"female\"],[16,\"male\"]]\n",
    "v2 = [[1,\"y\"],[2,\"n\"],[3,'y'],[4,'n']]\n",
    "v3 = [[50,\"male\",5,\"y\"],[25,\"female\",6,\"y\"]]\n",
    "c1 = [\"age\",\"gender\"]\n",
    "c2 = [\"id\",\"ikun\"]\n",
    "c3 = [\"age\",\"gender\",\"id\",\"ikun\"]\n",
    "df1 = pd.DataFrame(v1,index=i1,columns=c1)\n",
    "df2 = pd.DataFrame(v2,index=i2,columns=c2)\n",
    "df3 = pd.DataFrame(v3,index=i3,columns=c3)\n",
    "print(df1,'\\n')\n",
    "print(df2,'\\n')\n",
    "print(df3)\n",
    "# 得到三个df"
   ],
   "id": "35cd130bee47ed5a",
   "outputs": [],
   "execution_count": null
  },
  {
   "metadata": {},
   "cell_type": "code",
   "source": [
    "# 合并列对象\n",
    "df = pd.concat([df1,df2],axis=1)\n",
    "df"
   ],
   "id": "fdec1af67aea26eb",
   "outputs": [],
   "execution_count": null
  },
  {
   "metadata": {},
   "cell_type": "code",
   "source": [
    "# 合并行对象\n",
    "df = pd.concat([df,df3],axis=0)        # axis=0可不写，默认行方向先合并\n",
    "df"
   ],
   "id": "37723e749b4510a4",
   "outputs": [],
   "execution_count": null
  }
 ],
 "metadata": {
  "kernelspec": {
   "display_name": "CL",
   "language": "python",
   "name": "cl"
  },
  "language_info": {
   "codemirror_mode": {
    "name": "ipython",
    "version": 2
   },
   "file_extension": ".py",
   "mimetype": "text/x-python",
   "name": "python",
   "nbconvert_exporter": "python",
   "pygments_lexer": "ipython2",
   "version": "2.7.6"
  }
 },
 "nbformat": 4,
 "nbformat_minor": 5
}
