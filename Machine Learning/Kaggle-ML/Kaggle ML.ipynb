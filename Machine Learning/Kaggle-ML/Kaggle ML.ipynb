{
 "cells": [
  {
   "cell_type": "code",
   "execution_count": null,
   "id": "initial_id",
   "metadata": {
    "collapsed": true
   },
   "outputs": [],
   "source": [
    "import pandas as pd\n",
    "# Path of the file to read\n",
    "file_path = '../input/home-data-for-ml-course/train.csv'\n",
    "home_data = pd.read_csv(file_path)                # 用 pd.read_csv(文件路径)读取csv文件\n",
    "print(home_data.columns)                          # 用.columns得到列元素\n",
    "home_data = home_data.dropna(axis=0)              # 用dropna()删除含缺失值的记录,axis=0 表示按行删除\n",
    "y = home_data.SalePrice                           # 从数据集中提取目标变量（SalePrice列，即房屋售价）\n",
    "feature_names = [                                 # 定义要使用的特征列表（这些是用于预测房价的输入特征）\n",
    "'LotArea',                                        # 地块面积\n",
    "'YearBuilt',                                      # 建造年份\n",
    "'1stFlrSF',                                       # 一楼面积\n",
    "'2ndFlrSF',                                       # 二楼面积\n",
    "'FullBath',                                       # 全卫数量\n",
    "'BedroomAbvGr',                                   # 楼上卧室数量\n",
    "'TotRmsAbvGrd']                                   # 楼上总房间数\n",
    "X = home_data[feature_names]                      # 从数据集中选择特征列表对应的列作为输入特征X\n",
    "X.describe()                                      # 显示特征数据的统计摘要（包括均值、标准差、最值、四分位数等）\n",
    "X.head()                                          # 显示特征数据的前5行（用于快速查看数据格式和内容）\n",
    "from sklearn.tree import DecisionTreeRegressor    # 从sklearn库中导入决策树回归器（用于构建回归模型）\n",
    "iowa_model = DecisionTreeRegressor(random_state=1)# 创建决策树回归模型实例，并设置随机种子（random_state确保结果可复现）\n",
    "iowa_model.fit(X, y)                              # 使用特征X和目标y训练模型（fit方法是模型训练的核心方法）\n",
    "predictions = iowa_model.predict(X)               # 使用训练好的模型对输入特征X进行预测（predict方法用于生成预测结果）\n",
    "home_data.describe()                              # 打印整个数据集的统计摘要（包括所有数值型列的统计信息）"
   ]
  }
 ],
 "metadata": {
  "kernelspec": {
   "display_name": "Python 3",
   "language": "python",
   "name": "python3"
  },
  "language_info": {
   "codemirror_mode": {
    "name": "ipython",
    "version": 2
   },
   "file_extension": ".py",
   "mimetype": "text/x-python",
   "name": "python",
   "nbconvert_exporter": "python",
   "pygments_lexer": "ipython2",
   "version": "2.7.6"
  }
 },
 "nbformat": 4,
 "nbformat_minor": 5
}
