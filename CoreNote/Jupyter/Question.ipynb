{
 "cells": [
  {
   "metadata": {},
   "cell_type": "markdown",
   "source": [
    "### 封装\n",
    "请定义一个类，类名为Phone，类中包含一个私有属性__is_5g_enable，初始值为False；一个私有方法__check_5g，如果__is_5g_enable为True，则打印“5G is enable”，否则打印“5G is not enable, and 4G is used now”；一个公有方法call_by_5g，调用__check_5g方法，然后打印“Calling……”。"
   ],
   "id": "28b79971f000ad79"
  },
  {
   "metadata": {
    "ExecuteTime": {
     "end_time": "2025-08-13T07:56:58.874787Z",
     "start_time": "2025-08-13T07:56:58.864751Z"
    }
   },
   "cell_type": "code",
   "source": [
    "class Phone:\n",
    "    __is_5g_enable=False         #5g State\n",
    "    def __check_5g(self):\n",
    "        if self.__is_5g_enable:\n",
    "            print(\"5G is enable\")\n",
    "        else:\n",
    "            print(\"5G is not enable,and 4g is used now\")\n",
    "    def call_by_5g(self):\n",
    "        self.__check_5g()\n",
    "        print(\"Calling......\")\n",
    "phone=Phone()\n",
    "phone.call_by_5g()\n"
   ],
   "id": "61ee0a8f7f52d251",
   "outputs": [
    {
     "name": "stdout",
     "output_type": "stream",
     "text": [
      "5G is not enable,and 4g is used now\n",
      "Calling......\n"
     ]
    }
   ],
   "execution_count": 1
  },
  {
   "metadata": {},
   "cell_type": "code",
   "outputs": [],
   "execution_count": null,
   "source": "",
   "id": "4b9992c47005de22"
  }
 ],
 "metadata": {
  "kernelspec": {
   "display_name": "CL",
   "language": "python",
   "name": "corelearning"
  },
  "language_info": {
   "codemirror_mode": {
    "name": "ipython",
    "version": 2
   },
   "file_extension": ".py",
   "mimetype": "text/x-python",
   "name": "python",
   "nbconvert_exporter": "python",
   "pygments_lexer": "ipython2",
   "version": "2.7.6"
  }
 },
 "nbformat": 4,
 "nbformat_minor": 5
}
