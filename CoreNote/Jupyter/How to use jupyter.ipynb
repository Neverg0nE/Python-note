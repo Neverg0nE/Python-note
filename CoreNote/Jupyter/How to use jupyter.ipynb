{
 "cells": [
  {
   "cell_type": "markdown",
   "id": "877bed66-9a7d-4d2e-8858-187bf92f9697",
   "metadata": {},
   "source": [
    "# 关于jupyter的使用"
   ]
  },
  {
   "cell_type": "markdown",
   "id": "05198e72-5ba4-4c38-8d3d-009f10bb62e2",
   "metadata": {},
   "source": [
    "## Code"
   ]
  },
  {
   "cell_type": "markdown",
   "id": "6ba2e9c3-780e-4887-9145-8e92b213cd38",
   "metadata": {},
   "source": [
    "写代码，实例："
   ]
  },
  {
   "cell_type": "code",
   "id": "b0a888e9-a0bf-4bcc-bd52-798c439f4a4d",
   "metadata": {
    "ExecuteTime": {
     "end_time": "2025-08-18T11:58:33.147581Z",
     "start_time": "2025-08-18T11:58:33.129534Z"
    }
   },
   "source": [
    "print('cry')"
   ],
   "outputs": [
    {
     "name": "stdout",
     "output_type": "stream",
     "text": [
      "cry\n"
     ]
    }
   ],
   "execution_count": 1
  },
  {
   "cell_type": "markdown",
   "id": "1decf66b-3709-4602-b3b8-0488f58bfcf8",
   "metadata": {},
   "source": [
    "# Markdow\n",
    "### 标题大小调整\n",
    "- ###+空格+小标题\n",
    "- ##+空格+二级标题\n",
    "- #+空格+大级标题"
   ]
  },
  {
   "cell_type": "markdown",
   "id": "5c1ae29a-9ca2-4288-a73e-0bcd769fff93",
   "metadata": {},
   "source": [
    "## 快捷键\n",
    "- Esc+A：在当前单元格上方插入新单元格\n",
    "- Esc+B：在当前单元格下方插入新单元格\n",
    "- Esc+M：将单元格格式转为Markdown格式\n",
    "- Ctrl+Enter：运行当前单元格\n",
    "- Shift+Enter：运行当前单元格并选择下一个单元格"
   ]
  },
  {
   "cell_type": "markdown",
   "id": "f754dd46-af61-4dd8-9f25-0714440e30a0",
   "metadata": {},
   "source": [
    "## 其他\n",
    "- 通过-+空格生成·，换行后自动加·\n",
    "- 直接在markdown选项下输入文字实现基础段落"
   ]
  },
  {
   "cell_type": "markdown",
   "id": "470db400-c171-4873-8924-5f8ef7bed85c",
   "metadata": {},
   "source": [
    "## Raw"
   ]
  },
  {
   "cell_type": "markdown",
   "id": "69694d12-db05-403f-bb7e-561db22525f3",
   "metadata": {},
   "source": [
    "在Raw选项下进行纯文本输出"
   ]
  },
  {
   "metadata": {},
   "cell_type": "markdown",
   "source": "## 附录",
   "id": "337e13363fa50d41"
  },
  {
   "metadata": {},
   "cell_type": "code",
   "source": "%pwd             # 显示当前路径",
   "id": "be3236734d19d180",
   "outputs": [],
   "execution_count": null
  },
  {
   "metadata": {},
   "cell_type": "code",
   "source": "%ls              # 显示当前路径下的文件",
   "id": "1beaf6024519358e",
   "outputs": [],
   "execution_count": null
  },
  {
   "metadata": {},
   "cell_type": "code",
   "source": "",
   "id": "b059bfdc41f485c5",
   "outputs": [],
   "execution_count": null
  }
 ],
 "metadata": {
  "kernelspec": {
   "display_name": "CL",
   "language": "python",
   "name": "cl"
  },
  "language_info": {
   "codemirror_mode": {
    "name": "ipython",
    "version": 3
   },
   "file_extension": ".py",
   "mimetype": "text/x-python",
   "name": "python",
   "nbconvert_exporter": "python",
   "pygments_lexer": "ipython3",
   "version": "3.10.18"
  }
 },
 "nbformat": 4,
 "nbformat_minor": 5
}
