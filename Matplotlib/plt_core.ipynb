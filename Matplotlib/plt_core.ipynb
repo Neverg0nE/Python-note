{
 "cells": [
  {
   "metadata": {
    "ExecuteTime": {
     "end_time": "2025-08-17T06:34:38.892471Z",
     "start_time": "2025-08-17T06:34:38.510479Z"
    }
   },
   "cell_type": "code",
   "source": [
    "import matplotlib.pyplot as plt\n",
    "from IPython.core.magic import line_magic\n",
    "from matplotlib.pyplot import ylabel\n",
    "from pandas.conftest import axis_1"
   ],
   "id": "47a5c1b1dc27215d",
   "outputs": [],
   "execution_count": 2
  },
  {
   "metadata": {
    "collapsed": true
   },
   "cell_type": "markdown",
   "source": "### 一、绘图基础",
   "id": "b1defd0db7074690"
  },
  {
   "metadata": {},
   "cell_type": "markdown",
   "source": "### 1.1 绘制图像",
   "id": "a300c121babc7d18"
  },
  {
   "metadata": {},
   "cell_type": "code",
   "source": [
    "# 绘图\n",
    "Fig1 = plt.figure()             # 创建新图床\n",
    "x = [1,2,3,4,5]                 # x坐标数据\n",
    "y = [1,8,27,64,125]             # y坐标数据\n",
    "plt.plot(x,y)                   # plot()函数，先描点再连线"
   ],
   "id": "7fadeb39f52c230b",
   "outputs": [],
   "execution_count": null
  },
  {
   "metadata": {},
   "cell_type": "code",
   "source": [
    "# 展示高清的svg矢量图\n",
    "from matplotlib_inline import backend_inline\n",
    "backend_inline.set_matplotlib_formats('svg')                    # 设置输出格式为svg\n",
    "\n",
    "Fig2 = plt.figure()\n",
    "x = [1,2,3,4,5]\n",
    "y = [1,8,27,64,125]\n",
    "plt.plot(x,y)"
   ],
   "id": "209cc6da96551b45",
   "outputs": [],
   "execution_count": null
  },
  {
   "metadata": {},
   "cell_type": "markdown",
   "source": "### 1.2 保存图像",
   "id": "265c1d24acde951b"
  },
  {
   "metadata": {
    "ExecuteTime": {
     "end_time": "2025-08-17T06:43:35.772703Z",
     "start_time": "2025-08-17T06:43:35.749659Z"
    }
   },
   "cell_type": "code",
   "source": "Fig1.savefig(r'C:\\Users\\Y.Y\\Desktop\\Fig1.svg')   # 保存为svg格式最佳，注意路径要正确，可直接将svg文件拖入word中查看",
   "id": "152418f42d766b15",
   "outputs": [],
   "execution_count": 8
  },
  {
   "metadata": {},
   "cell_type": "markdown",
   "source": [
    "### 1.3 两种画图方式\n",
    "Matlab方式和面向对象的方式"
   ],
   "id": "5511ba9b438833bf"
  },
  {
   "metadata": {
    "ExecuteTime": {
     "end_time": "2025-08-17T06:52:59.219907Z",
     "start_time": "2025-08-17T06:52:59.202915Z"
    }
   },
   "cell_type": "code",
   "source": [
    "# 表头\n",
    "from matplotlib_inline import backend_inline\n",
    "backend_inline.set_matplotlib_formats('svg')                    # 设置输出格式为svg\n",
    "# 准备数据\n",
    "x = [1,2,3,4,5]\n",
    "y = [1,8,27,64,125]"
   ],
   "id": "afb40030a959f730",
   "outputs": [],
   "execution_count": 11
  },
  {
   "metadata": {},
   "cell_type": "code",
   "source": [
    "# Matlab方式\n",
    "Fig1 = plt.figure()\n",
    "plt.plot(x,y)"
   ],
   "id": "7328b3eaa327eac4",
   "outputs": [],
   "execution_count": null
  },
  {
   "metadata": {},
   "cell_type": "code",
   "outputs": [],
   "execution_count": null,
   "source": [
    "# 面向对象的方式\n",
    "Fig2 = plt.figure()        # 创建图窗\n",
    "ax2 = plt.axes()           # 创建坐标轴\n",
    "ax2.plot(x,y)"
   ],
   "id": "e91f46987dd8075e"
  },
  {
   "metadata": {},
   "cell_type": "markdown",
   "source": [
    "# 二、多图形绘制\n",
    "Jupyter中使用Fig.plt.figure()创建图窗后，范围仅在此代码块内，跳出此代码块和的其他命令和Fig1无关"
   ],
   "id": "ed3c34d245e5663c"
  },
  {
   "metadata": {},
   "cell_type": "markdown",
   "source": "### 2.1 绘制多线条",
   "id": "2fb4ba17b53a8e63"
  },
  {
   "metadata": {
    "ExecuteTime": {
     "end_time": "2025-08-17T07:02:00.582391Z",
     "start_time": "2025-08-17T07:02:00.576810Z"
    }
   },
   "cell_type": "code",
   "source": [
    "from matplotlib_inline import backend_inline\n",
    "backend_inline.set_matplotlib_formats('svg')\n",
    "x = [1,2,3,4,5]\n",
    "y1 = [1,2,3,4,5]\n",
    "y2 = [0,0,0,0,0]\n",
    "y3 = [-1,-2,-3,-4,-5]"
   ],
   "id": "725e2b02ecd04d9f",
   "outputs": [],
   "execution_count": 17
  },
  {
   "metadata": {},
   "cell_type": "code",
   "source": [
    "# Matlab绘图\n",
    "Fig1 = plt.figure()\n",
    "plt.plot(x,y1)\n",
    "plt.plot(x,y2)\n",
    "plt.plot(x,y3)"
   ],
   "id": "6b85dca954905627",
   "outputs": [],
   "execution_count": null
  },
  {
   "metadata": {},
   "cell_type": "code",
   "source": [
    "# 面向对象的方式\n",
    "Fig2 = plt.figure()\n",
    "ax2 = plt.axes()       # 在Fig2图形对象中创建一个坐标轴对象（Axes），并赋值给变量ax2\n",
    "ax2.plot(x,y1)\n",
    "ax2.plot(x,y2)\n",
    "ax2.plot(x,y3)         # 在ax2坐标轴上依次绘制三条曲线，分别对应数据(x,y1)、(x,y2)、(x,y3)"
   ],
   "id": "f38c84c2b5a56949",
   "outputs": [],
   "execution_count": null
  },
  {
   "metadata": {},
   "cell_type": "markdown",
   "source": "### 2.2 绘制多子图",
   "id": "edb7448d9746daf1"
  },
  {
   "metadata": {},
   "cell_type": "code",
   "outputs": [],
   "execution_count": null,
   "source": [
    "# 数据准备\n",
    "from matplotlib_inline import backend_inline\n",
    "backend_inline.set_matplotlib_formats('svg')\n",
    "x = [1,2,3,4,5]\n",
    "y1 = [1,2,3,4,5]\n",
    "y2 = [0,0,0,0,0]\n",
    "y3 = [-1,-2,-3,-4,-5]"
   ],
   "id": "2366d874dbe62df3"
  },
  {
   "metadata": {},
   "cell_type": "code",
   "source": [
    "# Matlab方式\n",
    "Fig1 = plt.figure()\n",
    "plt.subplot(3,3,1),plt.plot(x,y1)     # subplot:子图，子图共3行1列，此子图为其中第一个\n",
    "plt.subplot(3,1,2),plt.plot(x,y2)\n",
    "plt.subplot(3,1,3),plt.plot(x,y3)"
   ],
   "id": "2b513af05cf9c7a",
   "outputs": [],
   "execution_count": null
  },
  {
   "metadata": {},
   "cell_type": "code",
   "source": [
    "# 面向对象的方式\n",
    "Fig2,ax2 = plt.subplots(3) # 3个子图注意子图带s   # 等同于Fig2 = plt.figure()，ax2 = plt.axes()\n",
    "# 一次性创建一个图形对象和 3 个子图（坐标轴对象），并将它们分别赋值给变量Fig2和ax2\n",
    "ax2[0].plot(x,y1)\n",
    "# 在第 1 个子图（ax2[0]）上绘制曲线，数据为(x, y1)。\n",
    "ax2[1].plot(x,y2)\n",
    "ax2[2].plot(x,y3)"
   ],
   "id": "868d9554e40a95ab",
   "outputs": [],
   "execution_count": null
  },
  {
   "metadata": {},
   "cell_type": "markdown",
   "source": "# 三、图表类型",
   "id": "27b8fc6920aae88b"
  },
  {
   "metadata": {},
   "cell_type": "markdown",
   "source": [
    "### 3.1 图表类型\n",
    "共五类：二维图，网格图，统计图，轮廓图，三维图"
   ],
   "id": "8f038394023d7a85"
  },
  {
   "metadata": {},
   "cell_type": "markdown",
   "source": "### 3.2 二维图",
   "id": "c7ee94c299acc918"
  },
  {
   "metadata": {
    "ExecuteTime": {
     "end_time": "2025-08-17T07:33:43.428289Z",
     "start_time": "2025-08-17T07:33:43.416483Z"
    }
   },
   "cell_type": "code",
   "source": [
    "# 数据准备\n",
    "from matplotlib_inline import backend_inline\n",
    "backend_inline.set_matplotlib_formats('svg')\n",
    "x = [1,2,3,4,5]\n",
    "y1 = [0,1,2,3,4]\n",
    "y2 = [1,2,3,4,5]\n",
    "y3 = [2,3,4,5,6]\n",
    "y4 = [3,4,5,6,7]\n",
    "y5 = [4,5,6,7,8]\n",
    "y6 = [5,6,7,8,9]"
   ],
   "id": "7049a8b298c6497f",
   "outputs": [],
   "execution_count": 37
  },
  {
   "metadata": {},
   "cell_type": "code",
   "source": [
    "# color关键字上色\n",
    "Fig1 = plt.figure()\n",
    "plt.plot(x,y4,color=\"#CD6839\")\n",
    "plt.plot(x,y3,color=\"#EE30A7\")\n",
    "plt.plot(x,y2,color=\"#BA55D3\")\n",
    "plt.plot(x,y1,color=\"#FF3030\")\n",
    "# QQ截图功能鼠标指针可以显示颜色"
   ],
   "id": "9d2604f85e0201e1",
   "outputs": [],
   "execution_count": null
  },
  {
   "metadata": {},
   "cell_type": "code",
   "source": [
    "# linestyle关键字设置风格\n",
    "Fig2 = plt.figure()\n",
    "plt.plot(x,y6,linestyle=\"-\")\n",
    "plt.plot(x,y5,linestyle=\"--\")\n",
    "plt.plot(x,y4,linestyle=\"-.\")\n",
    "plt.plot(x,y3,linestyle=\":\")\n",
    "plt.plot(x,y2,linestyle=\" \")        # 空格隐藏线段\n",
    "plt.plot(x,y1,linestyle=\"-\")"
   ],
   "id": "76756e5b6726d9fd",
   "outputs": [],
   "execution_count": null
  },
  {
   "metadata": {},
   "cell_type": "code",
   "source": [
    "# linewidth关键字设置线条粗细（0.5-3为宜）\n",
    "Fig3 = plt.figure()\n",
    "plt.plot(x,y6,linewidth=0.5)\n",
    "plt.plot(x,y5,linewidth=1)\n",
    "plt.plot(x,y4,linewidth=1.5)\n",
    "plt.plot(x,y3,linewidth=2)\n",
    "plt.plot(x,y2,linewidth=2.5)\n",
    "plt.plot(x,y1,linewidth=3)"
   ],
   "id": "a5ead89e6998254e",
   "outputs": [],
   "execution_count": null
  },
  {
   "metadata": {},
   "cell_type": "code",
   "source": [
    "# marker关键字设置点的形状\n",
    "Fig4 = plt.figure()\n",
    "plt.plot(x,y6,marker=\".\")     # 点\n",
    "plt.plot(x,y5,marker=\"o\")     # 圆点\n",
    "plt.plot(x,y4,marker=\"^\")     # 正方形\n",
    "plt.plot(x,y3,marker=\"s\")     # 上三角\n",
    "plt.plot(x,y2,marker=\"D\")     # 菱形\n",
    "plt.plot(x,y1,marker=\"+\")     # 加号点"
   ],
   "id": "5218f894f88ab6b6",
   "outputs": [],
   "execution_count": null
  },
  {
   "metadata": {},
   "cell_type": "code",
   "source": [
    "# 综合\n",
    "Fig5 = plt.figure()\n",
    "plt.plot(x,y6,marker=\"o\",linewidth=0.5,linestyle=\" \",color=\"#CD6839\")  # 隐藏线条用圆点得到散点图"
   ],
   "id": "405ad2ccd3aa0e7",
   "outputs": [],
   "execution_count": null
  },
  {
   "metadata": {},
   "cell_type": "markdown",
   "source": [
    "### 3.3 网格图\n",
    "所有网格图都可以配置颜色条，面向对象方式的制图方法不行。。。"
   ],
   "id": "c7b901330fcee748"
  },
  {
   "metadata": {},
   "cell_type": "code",
   "source": [
    "# 数据准备\n",
    "import numpy as np\n",
    "from matplotlib_inline import backend_inline\n",
    "backend_inline.set_matplotlib_formats('svg')\n",
    "x = np.linspace(0, 10, 1000)\n",
    "i = np.sin(x)*np.cos(x).reshape(-1,1)"
   ],
   "id": "ba6786371950c664",
   "outputs": [],
   "execution_count": null
  },
  {
   "metadata": {},
   "cell_type": "code",
   "source": [
    "# Matlab方式\n",
    "Fig1 = plt.figure()\n",
    "plt.imshow(i)\n",
    "plt.colorbar()         # 配置颜色条，面向对象的方式不行"
   ],
   "id": "9e6483d5a6c52b67",
   "outputs": [],
   "execution_count": null
  },
  {
   "metadata": {},
   "cell_type": "code",
   "source": [
    "# 面向对象的方式\n",
    "Fig2,ax2 = plt.subplots()\n",
    "ax2.imshow(i)"
   ],
   "id": "f3b66b42d5c25323",
   "outputs": [],
   "execution_count": null
  },
  {
   "metadata": {},
   "cell_type": "markdown",
   "source": [
    "### 3.4 统计图\n",
    "直方图hist（高考数学图那个），属于统计学函数，为了看清某分布的均值和标准差；\n",
    "\n",
    "条形图bar，可用线型图plot替代"
   ],
   "id": "776dda705a13f24c"
  },
  {
   "metadata": {
    "ExecuteTime": {
     "end_time": "2025-08-17T08:00:31.548251Z",
     "start_time": "2025-08-17T08:00:31.113169Z"
    }
   },
   "cell_type": "code",
   "source": [
    "# 数据准备\n",
    "import numpy as np\n",
    "from matplotlib_inline import backend_inline\n",
    "backend_inline.set_matplotlib_formats('svg')\n",
    "data = np.random.randn(10000)   # 创建10000个标准正态分布样本"
   ],
   "id": "fdc3495d8153a306",
   "outputs": [],
   "execution_count": 61
  },
  {
   "metadata": {},
   "cell_type": "code",
   "source": [
    "# Matlab方式,hist()函数建立直方图\n",
    "Fig = plt.figure()\n",
    "plt.hist(data,bins=30,alpha=0.5,histtype=\"stepfilled\",color=\"red\",edgecolor=\"yellow\")\n",
    "# bins = 30  :  bins为柱子数量，默认为10条;\n",
    "# alpha=0.5  :  alpha为透明度，0完全透明,1完全不透明，默认为1\n",
    "# histtype=\"stepfilled\" :  histtype表示类型，默认为bar，现在改了后浑然一体\n",
    "# color=\"red\":  color表示颜色\n",
    "# edgecolor=\"yellow\"    :  边缘颜色"
   ],
   "id": "4d2b8af18d8009d8",
   "outputs": [],
   "execution_count": null
  },
  {
   "metadata": {},
   "cell_type": "markdown",
   "source": "# 四、同窗属性",
   "id": "60ac8cced4be4ecf"
  },
  {
   "metadata": {},
   "cell_type": "markdown",
   "source": "### 4.1 坐标轴上下限",
   "id": "733decf224f87f9e"
  },
  {
   "metadata": {},
   "cell_type": "code",
   "source": [
    "# lim方法设置坐标轴上下限（Matlab制图）\n",
    "from matplotlib_inline import backend_inline\n",
    "backend_inline.set_matplotlib_formats('svg')\n",
    "x = [1,2,3,4,5]\n",
    "y = [1,8,27,64,125]\n",
    "\n",
    "Fig = plt.figure()\n",
    "plt.plot(x,y)\n",
    "\n",
    "plt.xlim(1,5)       # 设置x轴范围\n",
    "plt.ylim(1,125)     # 设置y轴范围"
   ],
   "id": "e20e0b2fc09fce89",
   "outputs": [],
   "execution_count": null
  },
  {
   "metadata": {},
   "cell_type": "code",
   "source": [
    "# lim方法设置坐标轴上下限（面向对象制图）,要多写set_xlim\n",
    "from matplotlib_inline import backend_inline\n",
    "backend_inline.set_matplotlib_formats('svg')\n",
    "x = [1,2,3,4,5]\n",
    "y = [1,8,27,64,125]\n",
    "\n",
    "Fig,ax = plt.subplots()\n",
    "ax.plot(x,y)\n",
    "\n",
    "ax.set_xlim(2,5)\n",
    "ax.set_ylim(1,125)"
   ],
   "id": "c86d2f5d1a9da5e2",
   "outputs": [],
   "execution_count": null
  },
  {
   "metadata": {},
   "cell_type": "code",
   "source": [
    "# axis法设置坐标轴上下限（两种制图方法一样）\n",
    "from matplotlib_inline import backend_inline\n",
    "backend_inline.set_matplotlib_formats('svg')\n",
    "x = [1,2,3,4,5]\n",
    "y = [1,8,27,64,125]\n",
    "\n",
    "Fig = plt.figure()\n",
    "plt.plot(x,y)\n",
    "plt.axis([1,5,1,125])"
   ],
   "id": "295e5e43e23a168f",
   "outputs": [],
   "execution_count": null
  },
  {
   "metadata": {},
   "cell_type": "markdown",
   "source": "### 4.2 标题与轴名称",
   "id": "a2cfc92e02f252f2"
  },
  {
   "metadata": {},
   "cell_type": "code",
   "source": [
    "# Matlab方式设置标题和轴名称\n",
    "from matplotlib_inline import backend_inline\n",
    "backend_inline.set_matplotlib_formats('svg')\n",
    "x = [1,2,3,4,5]\n",
    "y = [1,8,27,64,125]\n",
    "\n",
    "Fig = plt.figure()\n",
    "plt.plot(x,y)\n",
    "\n",
    "plt.title(\"This is title\")\n",
    "plt.xlabel('x-label')\n",
    "plt.ylabel('y-label')"
   ],
   "id": "b4e5084b7938922f",
   "outputs": [],
   "execution_count": null
  },
  {
   "metadata": {},
   "cell_type": "code",
   "source": [
    "# 面向对象方式设置标题和轴名称(set_title())\n",
    "from matplotlib_inline import backend_inline\n",
    "backend_inline.set_matplotlib_formats('svg')\n",
    "x = [1,2,3,4,5]\n",
    "y = [1,8,27,64,125]\n",
    "\n",
    "Fig,ax = plt.subplots()\n",
    "ax.plot(x,y)\n",
    "\n",
    "ax.set_title(\"This is title\")\n",
    "ax.set_xlabel('x-abel')\n",
    "ax.set_ylabel('y-label')"
   ],
   "id": "e7ea4c3e82eb960b",
   "outputs": [],
   "execution_count": null
  },
  {
   "metadata": {},
   "cell_type": "code",
   "outputs": [],
   "execution_count": null,
   "source": [
    "# 面向对象统一函数\n",
    "ax.set(xlim=(),ylim=(),title='',xlabe='',ylabel='')"
   ],
   "id": "569fa5cb79cd6aff"
  },
  {
   "metadata": {},
   "cell_type": "markdown",
   "source": "### 4.3 图例",
   "id": "79e574d1c85210a1"
  },
  {
   "metadata": {},
   "cell_type": "code",
   "source": [
    "# 图例的设置  .legend方法\n",
    "from matplotlib_inline import backend_inline\n",
    "backend_inline.set_matplotlib_formats('svg')\n",
    "x = [1,2,3,4,5]\n",
    "y1 = [0,1,2,3,4]\n",
    "y2 = [1,2,3,4,5]\n",
    "y3 = [2,3,4,5,6]\n",
    "y4 = [3,4,5,6,7]\n",
    "Fig1 = plt.figure()\n",
    "plt.plot(x,y5)                   # 不写label则没有图例\n",
    "plt.plot(x,y4,label='1')\n",
    "plt.plot(x,y3,label='2')\n",
    "plt.plot(x,y2,label='3')\n",
    "plt.plot(x,y1,label='4')\n",
    "# 写法一，必须配合plt.plot中的label\n",
    "plt.legend()                     # 生产图例，与label搭配使用，面向对象的方法一样\n",
    "# 写法二，不用label\n",
    "plt.legend([1,2,3,4])            # 按plot生成顺序依次填入"
   ],
   "id": "63db55f8c238a2fa",
   "outputs": [],
   "execution_count": null
  },
  {
   "metadata": {},
   "cell_type": "code",
   "source": [
    "# .legend的参数设置\n",
    "from matplotlib_inline import backend_inline\n",
    "backend_inline.set_matplotlib_formats('svg')\n",
    "x = [1,2,3,4,5]\n",
    "y1 = [0,1,2,3,4]\n",
    "y2 = [1,2,3,4,5]\n",
    "Fig1 = plt.figure()\n",
    "plt.plot(x,y2,label='1')\n",
    "plt.plot(x,y1,label='2')\n",
    "\n",
    "# loc确定位置（1+1）：upper,center,lower;left,center,right;或者直接写best\n",
    "# frameon是否显示图例的边框\n",
    "# ncol表示图例的列数，默认为1\n",
    "plt.legend(loc='upper left',frameon=False,ncol=2)"
   ],
   "id": "82de598bc43105c6",
   "outputs": [],
   "execution_count": null
  },
  {
   "metadata": {},
   "cell_type": "markdown",
   "source": "### 4.4 网格",
   "id": "90b377882ad1e03"
  },
  {
   "metadata": {},
   "cell_type": "code",
   "source": [
    "# plt.grid()添加网格\n",
    "from matplotlib_inline import backend_inline\n",
    "backend_inline.set_matplotlib_formats('svg')\n",
    "x = [1,2,3,4,5]\n",
    "y1 = [0,1,2,3,4]\n",
    "y2 = [1,2,3,4,5]\n",
    "Fig1 = plt.figure()\n",
    "plt.plot(x,y2,label='1')\n",
    "plt.plot(x,y1,label='2')\n",
    "\n",
    "plt.grid()\n",
    "# plt.grid()也可以设置颜色和样式 使用color和linestyle参数"
   ],
   "id": "6e69a325fbd2796c",
   "outputs": [],
   "execution_count": null
  }
 ],
 "metadata": {
  "kernelspec": {
   "display_name": "CL",
   "language": "python",
   "name": "corelearning"
  },
  "language_info": {
   "codemirror_mode": {
    "name": "ipython",
    "version": 2
   },
   "file_extension": ".py",
   "mimetype": "text/x-python",
   "name": "python",
   "nbconvert_exporter": "python",
   "pygments_lexer": "ipython2",
   "version": "2.7.6"
  }
 },
 "nbformat": 4,
 "nbformat_minor": 5
}
