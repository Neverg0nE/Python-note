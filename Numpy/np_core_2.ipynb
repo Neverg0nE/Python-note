{
 "cells": [
  {
   "cell_type": "code",
   "id": "initial_id",
   "metadata": {
    "collapsed": true,
    "ExecuteTime": {
     "end_time": "2025-08-16T14:37:53.501011Z",
     "start_time": "2025-08-16T14:37:53.433789Z"
    }
   },
   "source": "import numpy as np",
   "outputs": [],
   "execution_count": 2
  },
  {
   "metadata": {},
   "cell_type": "markdown",
   "source": "# 五、数组的运算",
   "id": "3025da670d85112f"
  },
  {
   "metadata": {
    "ExecuteTime": {
     "end_time": "2025-08-15T04:32:32.855665Z",
     "start_time": "2025-08-15T04:32:32.836842Z"
    }
   },
   "cell_type": "markdown",
   "source": [
    "### 数组于系数之间的运算\n",
    "- 加+减-乘*除/幂*** 指数^（仅限整数指数）取整//取余%"
   ],
   "id": "8fa1b5f66baec62f"
  },
  {
   "metadata": {},
   "cell_type": "code",
   "source": [
    "a=np.arange(10).reshape(2,-1)\n",
    "print(a,'\\n')\n",
    "print(a+10,'\\n')                # 加法\n",
    "print(a/10,'\\n')                # 除法"
   ],
   "id": "86ae9fe38a83c05b",
   "outputs": [],
   "execution_count": null
  },
  {
   "metadata": {},
   "cell_type": "markdown",
   "source": "### 数组与数组之间的运算",
   "id": "6f4ffae38fe9ae0"
  },
  {
   "metadata": {},
   "cell_type": "code",
   "source": [
    "a=np.arange(-1,-9,-1).reshape(2,4)\n",
    "print(a,'\\n')\n",
    "b=-a\n",
    "print(b,'\\n')\n",
    "print(a+b,'\\n')\n",
    "print(a-b,'\\n')"
   ],
   "id": "b1e1ece648afac43",
   "outputs": [],
   "execution_count": null
  },
  {
   "metadata": {},
   "cell_type": "markdown",
   "source": "### 广播（逐元素相乘）",
   "id": "99492ada20a18ffb"
  },
  {
   "metadata": {},
   "cell_type": "code",
   "source": [
    "# 点乘\n",
    "a=np.array([-100,0,100])    # 向量\n",
    "print(a)\n",
    "print()\n",
    "b=np.random.random((10,3))  # 矩阵\n",
    "print(b)\n",
    "print()\n",
    "print(a*b)"
   ],
   "id": "e530b6bd3f36b4d7",
   "outputs": [],
   "execution_count": null
  },
  {
   "metadata": {},
   "cell_type": "code",
   "source": [
    "# 向量乘矩阵\n",
    "a=np.arange(3).reshape(3,1)\n",
    "print(a,'\\n')\n",
    "b=np.ones((3,5))\n",
    "print(b,'\\n')\n",
    "print(a*b)        # 第一行全部乘0，第二行全部乘1，第三行全部乘2"
   ],
   "id": "de5390ad46bf1064",
   "outputs": [],
   "execution_count": null
  },
  {
   "metadata": {},
   "cell_type": "code",
   "source": [
    "# 向量乘列矩阵\n",
    "a=np.arange(3)                  # 向量\n",
    "b=np.arange(3).reshape(3,-1)    # 列矩阵\n",
    "print(a,'\\n')\n",
    "print(b,'\\n')\n",
    "print(a*b)                      # 逐元素相乘，非矩阵乘法\n",
    "# 向量广播      列矩阵广播      逐元素相乘\n",
    "# 0  1  2      0  0  0       0  1  4\n",
    "# 0  1  2      1  1  1       0  1  2\n",
    "# 0  1  2      2  2  2       0  2  4"
   ],
   "id": "a8d9459a4d2def63",
   "outputs": [],
   "execution_count": null
  },
  {
   "metadata": {},
   "cell_type": "markdown",
   "source": "# 六、数组的函数",
   "id": "ac893d80426483f"
  },
  {
   "metadata": {},
   "cell_type": "markdown",
   "source": "### 矩阵乘积",
   "id": "e20108a37ce42441"
  },
  {
   "metadata": {},
   "cell_type": "code",
   "source": [
    "# 向量与向量的乘积\n",
    "a=np.arange(5)\n",
    "b=np.arange(5)\n",
    "print(a,'\\n')\n",
    "print(b,'\\n')\n",
    "print(np.dot(a,b))        # 向量×向量=标量"
   ],
   "id": "a87ce61ae1960a64",
   "outputs": [],
   "execution_count": null
  },
  {
   "metadata": {},
   "cell_type": "code",
   "source": [
    "from IPython.display import Image\n",
    "Image(filename='C:\\\\Users\\\\Y.Y\\\\Pictures\\\\Jp\\\\2.png')"
   ],
   "id": "7fa459ae7877fcaf",
   "outputs": [],
   "execution_count": null
  },
  {
   "metadata": {},
   "cell_type": "code",
   "source": [
    "# 矩阵与向量的乘积\n",
    "a=np.arange(15).reshape(5,-1)\n",
    "b=np.arange(3)\n",
    "print(a,'\\n')\n",
    "print(b,'\\n')\n",
    "print(np.dot(a,b))         # 形状： 5×3 乘 3×1 = 5×1"
   ],
   "id": "1a0e817fd9f72d03",
   "outputs": [],
   "execution_count": null
  },
  {
   "metadata": {},
   "cell_type": "code",
   "source": [
    "from IPython.display import Image\n",
    "Image(filename='C:\\\\Users\\\\Y.Y\\\\Pictures\\\\Jp\\\\3.png')"
   ],
   "id": "f0d57fefeddc027d",
   "outputs": [],
   "execution_count": null
  },
  {
   "metadata": {},
   "cell_type": "code",
   "source": [
    "# 向量与矩阵的乘积\n",
    "a=np.arange(5)\n",
    "b=np.arange(15).reshape(5,-1)\n",
    "print(a,'\\n')\n",
    "print(b,'\\n')\n",
    "print(np.dot(a,b))         # 形状： 1×5 乘 5×3 = 1×3"
   ],
   "id": "89f91aa493c3738c",
   "outputs": [],
   "execution_count": null
  },
  {
   "metadata": {},
   "cell_type": "code",
   "source": [
    "# 矩阵与矩阵的乘积\n",
    "a=np.arange(15).reshape(3,5)\n",
    "b=np.arange(10).reshape(5,2)\n",
    "print(a)\n",
    "print(b)\n",
    "print(np.dot(a,b))         # 形状： 3×5 乘 5×2 = 3×2"
   ],
   "id": "889da1a26616c732",
   "outputs": [],
   "execution_count": null
  },
  {
   "metadata": {},
   "cell_type": "markdown",
   "source": [
    "### 数学函数\n",
    "- 当axis=0,最终结果与每一行元素个数一致\n",
    "- 当axis=1,最终结果与每一列元素个数一致\n",
    "- 聚合函数安全版本（忽略缺失值）：函数名前+nan(not a number)，例如：np.nansum()"
   ],
   "id": "cccd959ff0af3c1f"
  },
  {
   "metadata": {},
   "cell_type": "code",
   "source": [
    "# 绝对值函数  np.abs(x):计算x的绝对值\n",
    "a=np.array([-1,2,-3])\n",
    "b=np.abs(a)\n",
    "print(b)"
   ],
   "id": "ed42f317490dc559",
   "outputs": [],
   "execution_count": null
  },
  {
   "metadata": {},
   "cell_type": "code",
   "source": [
    "# 三角函数   np.sin(x)  np.cos(x)  np.tan(x):计算x的三角函数值\n",
    "theta=np.arange(3)*np.pi/2      # 生成 [0,1,2] * pi / 2 -> [0,pi/2,pi]\n",
    "sin_v=np.sin(theta)\n",
    "cos_v=np.cos(theta)\n",
    "tan_v=np.tan(theta)\n",
    "print(sin_v)\n",
    "print(cos_v)\n",
    "print(tan_v)\n",
    "# e+00：乘以10的0次方（即1）;e-16:乘以10的-16次方，几乎为0;e+16：乘以10的16次方，近似无穷大"
   ],
   "id": "d08b0595e78e2dbf",
   "outputs": [],
   "execution_count": null
  },
  {
   "metadata": {},
   "cell_type": "code",
   "source": [
    "# 指数函数  np.exp(x):计算e^x\n",
    "x=np.arange(1,4)\n",
    "print('x=',x)\n",
    "print('e^x=',np.exp(x))\n",
    "print('2^x=',2**x)\n",
    "print(\"10^x=\",10**x)"
   ],
   "id": "627ce7b317363e8",
   "outputs": [],
   "execution_count": null
  },
  {
   "metadata": {},
   "cell_type": "code",
   "source": [
    "# 对数函数  np.log(x):计算lnx  np.log2(x):计算log2(x)\n",
    "x=np.array([1,10,100,1000])\n",
    "print('x=',x)\n",
    "print('ln(x)=',np.log(x))\n",
    "print('log2(x)=',np.log(x)/np.log(2))\n",
    "print('log10(x)=',np.log(x)/np.log(10))  # 换底公式\n",
    "print('log2(x)=',np.log2(x))"
   ],
   "id": "15340c6b678aabb6",
   "outputs": [],
   "execution_count": null
  },
  {
   "metadata": {},
   "cell_type": "markdown",
   "source": "### 聚合函数",
   "id": "dacf36b45ed243f5"
  },
  {
   "metadata": {},
   "cell_type": "code",
   "source": [
    "# 最大值函数np.max(x)和最小值函数np.min(x)\n",
    "a=np.random.random((2,3))\n",
    "print(a)\n",
    "print(\"按照维度一求最大值：\",np.max(a,axis=0))   # 每一列找最大值(矩阵先行再列，axis同，0代表按行方向求最大，遍历每一列）\n",
    "print(\"按照维度二求最大值：\",np.max(a,axis=1))   # 每一行找最大值\n",
    "print(\"整体最大值：\",np.max(a))                # 找全局最大值"
   ],
   "id": "fda7ddb3c8cb4730",
   "outputs": [],
   "execution_count": null
  },
  {
   "metadata": {},
   "cell_type": "code",
   "source": [
    "# 求和函数np.sum(x)和求积函数np.prod(x)\n",
    "a=np.arange(10).reshape(2,-1)\n",
    "print(a)\n",
    "print(\"按维度一求和：\",np.sum(a,axis=0))       # 每一列求和\n",
    "print(\"按维度二求和：\",np.sum(a,axis=1))       # 每一行求和\n",
    "print(\"整体求和：\",np.sum(a))"
   ],
   "id": "c74909188fed47e3",
   "outputs": [],
   "execution_count": null
  },
  {
   "metadata": {},
   "cell_type": "code",
   "source": [
    "# 均值函数np.mean(x),标准差函数np.std(x)\n",
    "a=np.arange(10).reshape(2,-1)\n",
    "print(a)\n",
    "print(\"一列为单位求均值：\",np.mean(a,axis=0))\n",
    "print(\"一行为单位求均值：\",np.mean(a,axis=1))\n",
    "print(\"全体求均值：\",np.mean(a))"
   ],
   "id": "ec6c1f282afe7006",
   "outputs": [],
   "execution_count": null
  },
  {
   "metadata": {},
   "cell_type": "markdown",
   "source": [
    "# 七、布尔型数组\n",
    "- 使用比较运算符\n",
    "- 同时检查多个条件：与 & ，或 |，非 ~ (only numpy)"
   ],
   "id": "30a50361c486b313"
  },
  {
   "metadata": {},
   "cell_type": "code",
   "source": [
    "# 创建bool数组\n",
    "a=np.array([True, False, True])         # 直接创建\n",
    "print(a,'\\n')\n",
    "\n",
    "b=np.arange(1,7).reshape(2,3)\n",
    "print(b,'\\n')\n",
    "print(b>=4,'\\n')                        # 数组与数字作比较得到bool\n",
    "\n",
    "c=np.arange(3,9).reshape(3,2).T\n",
    "print(c,'\\n')\n",
    "print(c>b)                              # 同纬度数组比较"
   ],
   "id": "1cf2e6f749dd0d5c",
   "outputs": [],
   "execution_count": null
  },
  {
   "metadata": {},
   "cell_type": "code",
   "source": [
    "a=np.arange(10)\n",
    "print(a)\n",
    "print((a<4)|(a>6))                      # 多个条件得到bool"
   ],
   "id": "e4502acc719e9b33",
   "outputs": [],
   "execution_count": null
  },
  {
   "metadata": {},
   "cell_type": "markdown",
   "source": "### 布尔类型数组中True的数量",
   "id": "f7f0800b2662e522"
  },
  {
   "metadata": {},
   "cell_type": "code",
   "source": [
    "# np.sum():计算数组中True的数量。 如果布尔型数组中的元素是0和1，那么np.sum()也可以看作是求和运算。\n",
    "a=np.random.normal(0,1,10000)           # 均值0，标准差1，形状为10000，标准正态分布\n",
    "print(a)\n",
    "num=np.sum(np.abs(a)<1)                 # a中绝对值小于1的数量或写成（a>-1&a<1)\n",
    "print(num)"
   ],
   "id": "63d63c526e3c479d",
   "outputs": [],
   "execution_count": null
  },
  {
   "metadata": {},
   "cell_type": "code",
   "source": [
    "# np.any():如果布尔型数组中的任意一个元素为True，则返回True，否则返回False。\n",
    "a=np.arange(10)\n",
    "b=np.flipud(a)\n",
    "print(a)\n",
    "print(b)\n",
    "print(np.any(a==b))    # 没有任何一个对照上，全为false，得到false"
   ],
   "id": "d725db7bceb479a1",
   "outputs": [],
   "execution_count": null
  },
  {
   "metadata": {},
   "cell_type": "code",
   "source": [
    "# np.all():如果布尔型数组中的所有元素都为True，则返回True，否则返回False。\n",
    "a=np.random.normal(500,70,10000)\n",
    "print(np.all(a>230))                  # 当这10000个数据都高于230则返回True，否则返回False"
   ],
   "id": "f6c90a7160f20001",
   "outputs": [],
   "execution_count": null
  },
  {
   "metadata": {},
   "cell_type": "markdown",
   "source": "### 布尔数组作为掩码",
   "id": "8e7c2ba0f6b1d94c"
  },
  {
   "metadata": {},
   "cell_type": "code",
   "source": [
    "a=np.arange(10).reshape(2,-1)\n",
    "print(a)\n",
    "print(a>4)\n",
    "print(a[a>4])                         # 称a>4为索引或掩码"
   ],
   "id": "181b7480609a29e5",
   "outputs": [],
   "execution_count": null
  },
  {
   "metadata": {},
   "cell_type": "code",
   "source": [
    "a=np.arange(10)\n",
    "b=np.flipud(a)\n",
    "print(a)\n",
    "print(b)\n",
    "print(a>b)                            # 将此结果作为掩码\n",
    "print(a[a>b])\n",
    "print(b[a>b])                         # 由掩码筛选元素"
   ],
   "id": "923b93ab20798063",
   "outputs": [],
   "execution_count": null
  },
  {
   "metadata": {},
   "cell_type": "markdown",
   "source": "### 满足条件元素所在位置\n",
   "id": "b4c1629156f282a1"
  },
  {
   "metadata": {},
   "cell_type": "code",
   "source": [
    "a=np.random.normal(600,60,10)\n",
    "print(a)\n",
    "print(np.where (a>650))            # 得到一个元组，反映超过650的元素所在的位置\n",
    "print(np.where (a>650)[0])         # 通过元组的下标取第一个元素\n",
    "print(np.where(a==np.max(a))[0])   # 找到最大的数的位置"
   ],
   "id": "4436959b47b86502",
   "outputs": [],
   "execution_count": null
  },
  {
   "metadata": {
    "ExecuteTime": {
     "end_time": "2025-08-15T07:55:54.263118Z",
     "start_time": "2025-08-15T07:55:54.254720Z"
    }
   },
   "cell_type": "markdown",
   "source": "### 八、从数组到张量",
   "id": "284a4bb878c48ac6"
  },
  {
   "metadata": {},
   "cell_type": "markdown",
   "source": [
    "- np对应torch\n",
    "- 数组array对应张量tensor\n",
    "- numpy的n维数组对应pytorch的n维张量\n",
    "- ts=torch.tensor(arr)     # 将numpy的数组转换为张量\n",
    "- arr=np.array(ts)         # 将张量转换为numpy数组"
   ],
   "id": "a71fbcae3f2691a5"
  },
  {
   "metadata": {},
   "cell_type": "code",
   "source": [
    "from IPython.display import Image\n",
    "Image(filename='C:\\\\Users\\\\Y.Y\\\\Pictures\\\\Jp\\\\4.jpg')"
   ],
   "id": "92ea8deb6b155867",
   "outputs": [],
   "execution_count": null
  },
  {
   "metadata": {},
   "cell_type": "markdown",
   "source": "将np改torch,将array改tensor，即可运用大部分代码，其余修正的如上图。",
   "id": "f6f58d1e2f355fcb"
  }
 ],
 "metadata": {
  "kernelspec": {
   "display_name": "CL",
   "language": "python",
   "name": "corelearning"
  },
  "language_info": {
   "codemirror_mode": {
    "name": "ipython",
    "version": 2
   },
   "file_extension": ".py",
   "mimetype": "text/x-python",
   "name": "python",
   "nbconvert_exporter": "python",
   "pygments_lexer": "ipython2",
   "version": "2.7.6"
  }
 },
 "nbformat": 4,
 "nbformat_minor": 5
}
