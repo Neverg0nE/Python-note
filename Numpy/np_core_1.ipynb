{
 "cells": [
  {
   "cell_type": "code",
   "execution_count": 1,
   "id": "e356363ceb28f4f2",
   "metadata": {
    "ExecuteTime": {
     "end_time": "2025-08-18T12:02:25.690106Z",
     "start_time": "2025-08-18T12:02:25.629589Z"
    }
   },
   "outputs": [],
   "source": [
    "import numpy as np"
   ]
  },
  {
   "cell_type": "markdown",
   "id": "c814c6c5b198f05c",
   "metadata": {},
   "source": [
    "# 一、数组基础"
   ]
  },
  {
   "cell_type": "markdown",
   "id": "e8c96b4c046176d4",
   "metadata": {},
   "source": [
    "### 创建数组"
   ]
  },
  {
   "cell_type": "code",
   "execution_count": 2,
   "id": "e3e08d605a6b518c",
   "metadata": {},
   "outputs": [
    {
     "name": "stdout",
     "output_type": "stream",
     "text": [
      "[1 2 3]\n"
     ]
    }
   ],
   "source": [
    "a=np.array([1,2,3])                 # int array\n",
    "print(a)"
   ]
  },
  {
   "cell_type": "code",
   "execution_count": null,
   "id": "9ab909d6ea6f1f71",
   "metadata": {},
   "outputs": [],
   "source": [
    "a=np.array([1.0,2,3])               # float array\n",
    "print(a)"
   ]
  },
  {
   "cell_type": "markdown",
   "id": "83e02138cd75419e",
   "metadata": {},
   "source": [
    "### 同化定理\n",
    "- 整数型数组插浮点数，浮点数自动截断为整数\n",
    "- 浮点型数组插整数，整数自动升级为浮点数"
   ]
  },
  {
   "cell_type": "code",
   "execution_count": null,
   "id": "af4b467252c76bc6",
   "metadata": {},
   "outputs": [],
   "source": [
    "a=np.array([1,2,3])\n",
    "a[0]=100.9           # 插入浮点数被截断\n",
    "print(a)"
   ]
  },
  {
   "cell_type": "code",
   "execution_count": null,
   "id": "29d6f669858f0f15",
   "metadata": {},
   "outputs": [],
   "source": [
    "b=np.array([1.0,2,3])\n",
    "b[0]=100           # 插入整数被升级为浮点数\n",
    "print(b)"
   ]
  },
  {
   "cell_type": "markdown",
   "id": "8ddc6654411499a0",
   "metadata": {},
   "source": [
    "### 共同改变定理\n"
   ]
  },
  {
   "cell_type": "code",
   "execution_count": null,
   "id": "95184926c5081edb",
   "metadata": {},
   "outputs": [],
   "source": [
    "a=np.array([1,2,3])     # int array\n",
    "b=a.astype(float)       # int array -> float array\n",
    "print(b)"
   ]
  },
  {
   "cell_type": "code",
   "execution_count": null,
   "id": "bc7a52f74b685a9d",
   "metadata": {
    "collapsed": true
   },
   "outputs": [],
   "source": [
    "a=np.array([1.0,2,3])   # float array\n",
    "b=a.astype(int)         # float array -> int array\n",
    "print(b)"
   ]
  },
  {
   "cell_type": "code",
   "execution_count": null,
   "id": "93582d82b60a5b30",
   "metadata": {},
   "outputs": [],
   "source": [
    "int_arr=np.array([1,2,3])\n",
    "float_arr= np.array([1.0,2,3])\n",
    "print( int_arr + 0.0 )\n",
    "print( int_arr * 1.0 )\n",
    "print( int_arr / 1 )\n",
    "print( int_arr + float_arr )\n",
    "# int加乘浮点得浮点，除以即使是int也得浮点，int array 与 float array 运算得浮点"
   ]
  },
  {
   "cell_type": "markdown",
   "id": "28ae46c0334bb5a4",
   "metadata": {
    "ExecuteTime": {
     "end_time": "2025-08-14T15:22:04.467311Z",
     "start_time": "2025-08-14T15:22:04.461252Z"
    }
   },
   "source": [
    "## 数组维度\n",
    "### 维度\n",
    "- 一维数组[]\n",
    "- 二维数组[[]]\n",
    "- 三维数组[[[]]]\n",
    "### 形参\n",
    "- 一维数组形状参数如x或（x，）\n",
    "- 二维数组形状参数如（x，y）\n",
    "- 三维数组形状参数如（x，y，z）"
   ]
  },
  {
   "cell_type": "code",
   "execution_count": null,
   "id": "bc6eb2af97c0abfa",
   "metadata": {},
   "outputs": [],
   "source": [
    "arr1=np.ones(3)\n",
    "print(arr1)\n",
    "print(arr1.shape)"
   ]
  },
  {
   "cell_type": "code",
   "execution_count": null,
   "id": "76c9e5b9dd2312d1",
   "metadata": {},
   "outputs": [],
   "source": [
    "arr2=np.ones((1,3))  # 传入形状（1，3）\n",
    "print(arr2)          # 得二维数组\n",
    "print(arr2.shape)    # 查看形状"
   ]
  },
  {
   "cell_type": "markdown",
   "id": "8ea257c03ff253c9",
   "metadata": {},
   "source": [
    "### 不同维度数组间的转换"
   ]
  },
  {
   "cell_type": "code",
   "execution_count": null,
   "id": "8a60216046dda8d6",
   "metadata": {},
   "outputs": [],
   "source": [
    "a=np.arange(12)       # 生成0-11的一维数组\n",
    "print(a)              # 创建一维数组\n",
    "b=a.reshape(1,12)     # 升级为二维\n",
    "print(b)\n",
    "c=a.reshape(-1,3)     # 变成二维三列\n",
    "print(c)\n",
    "d=a.reshape(6,-1)     # 变成二维六行\n",
    "print(d)"
   ]
  },
  {
   "cell_type": "code",
   "execution_count": null,
   "id": "7d3c8cc9d0387a70",
   "metadata": {},
   "outputs": [],
   "source": [
    "a=np.arange(10).reshape(2,5)   # 创建二维数组\n",
    "print(a)\n",
    "b=a.reshape(-1)                # 展平为一维,正常写10，-1自动算\n",
    "print(b)"
   ]
  },
  {
   "cell_type": "markdown",
   "id": "7a07fefae8a23d60",
   "metadata": {
    "ExecuteTime": {
     "end_time": "2025-08-14T15:46:10.570101Z",
     "start_time": "2025-08-14T15:46:10.564271Z"
    }
   },
   "source": [
    "# 二、数组的创建"
   ]
  },
  {
   "cell_type": "markdown",
   "id": "550ed46edabad62a",
   "metadata": {},
   "source": [
    "### 创建指定数组"
   ]
  },
  {
   "cell_type": "code",
   "execution_count": null,
   "id": "2c27b075fd4d53cc",
   "metadata": {},
   "outputs": [],
   "source": [
    "a=np.array([1,2,3])                 # 创建一维数组\n",
    "print(a)"
   ]
  },
  {
   "cell_type": "code",
   "execution_count": null,
   "id": "82995d1ec64a5ebf",
   "metadata": {},
   "outputs": [],
   "source": [
    "a=np.array([[1,2,3]])               # 创建二维数组--行矩阵\n",
    "print(a)"
   ]
  },
  {
   "cell_type": "code",
   "execution_count": null,
   "id": "46ce981ab2450678",
   "metadata": {},
   "outputs": [],
   "source": [
    "a=np.array([[1],[2],[3]])           # 创建二维数组--列矩阵\n",
    "print(a)"
   ]
  },
  {
   "cell_type": "code",
   "execution_count": null,
   "id": "b9ec95b91928d242",
   "metadata": {},
   "outputs": [],
   "source": [
    "a=np.array([[1,2,3],[4,5,6]])       # 创建二维数组--矩阵\n",
    "print(a)"
   ]
  },
  {
   "cell_type": "markdown",
   "id": "95e64aad85d0eded",
   "metadata": {},
   "source": [
    "### 创建递增数组"
   ]
  },
  {
   "cell_type": "code",
   "execution_count": null,
   "id": "baa3caf7983b403d",
   "metadata": {},
   "outputs": [],
   "source": [
    "a=np.arange(10)         # 创建0-9数组\n",
    "b=np.arange(10,20)      # 创建10-19数组\n",
    "c=np.arange(10,20,2)    # 创建10-20之前结束间隔为2的数组\n",
    "print(a)\n",
    "print(b)\n",
    "print(c)\n",
    "# 以上都得到整数数组，若想要浮点数数组只需在后面加.0即可"
   ]
  },
  {
   "cell_type": "markdown",
   "id": "4486d23d81eb980c",
   "metadata": {},
   "source": [
    "### 创建同值数组"
   ]
  },
  {
   "cell_type": "code",
   "execution_count": null,
   "id": "16112a472adebfb3",
   "metadata": {},
   "outputs": [],
   "source": [
    "a = np.zeros((1,3))          # 创建全0数组\n",
    "b = np.ones(3)               # 全1\n",
    "c = 3.14 * np.ones((2,3))    # 全特定值\n",
    "print(a)\n",
    "print(b)\n",
    "print(c)"
   ]
  },
  {
   "cell_type": "markdown",
   "id": "d39b1bd9cdbd7837",
   "metadata": {},
   "source": [
    "### 创建随机数组"
   ]
  },
  {
   "cell_type": "code",
   "execution_count": null,
   "id": "d6502f42ec2ecad",
   "metadata": {},
   "outputs": [],
   "source": [
    "arr1 = np.random.random((2,5))        # 随机0-1之间浮点型数组，形状为（2，5）矩阵。第一个random是np中模块random\n",
    "arr2 = 60*np.random.random((2,3))+40  # 随机40-100之间浮点型数组。第二个是random中的随机函数\n",
    "arr3 = np.random.randint(4,10,(3,3))  # 随机4-10之间的形状为（3，3）的整数型数组\n",
    "arr4 = arr2.astype(int)               # 将浮点型数组全部转化为整数型数组\n",
    "arr5 = np.random.normal(0,1,(2,4))    # 正态分布随机数组，参数顺序：均值，标准差，形状\n",
    "print(arr1)\n",
    "print(arr2)\n",
    "print(arr3)\n",
    "print(arr4)\n",
    "print(arr5)"
   ]
  },
  {
   "cell_type": "markdown",
   "id": "7e8ba5593d7474c",
   "metadata": {},
   "source": [
    "# 三、数组的索引"
   ]
  },
  {
   "cell_type": "markdown",
   "id": "24581f7c9102a0d9",
   "metadata": {
    "ExecuteTime": {
     "end_time": "2025-08-15T01:45:39.122226Z",
     "start_time": "2025-08-15T01:45:39.112197Z"
    }
   },
   "source": [
    "### 访问数组元素"
   ]
  },
  {
   "cell_type": "code",
   "execution_count": null,
   "id": "1799c146c904f726",
   "metadata": {},
   "outputs": [],
   "source": [
    "a=np.arange(1,10)\n",
    "print(a)\n",
    "print(a[3])           # 下标索引从0开始\n",
    "print(a[-1])          # 负数表示倒数第几个元素\n",
    "a[4]=100              # 修改元素\n",
    "print(a)"
   ]
  },
  {
   "cell_type": "markdown",
   "id": "5738b993162066f5",
   "metadata": {
    "ExecuteTime": {
     "end_time": "2025-08-15T01:47:59.711827Z",
     "start_time": "2025-08-15T01:47:59.705869Z"
    }
   },
   "source": [
    "### 访问矩阵(一层中括号）"
   ]
  },
  {
   "cell_type": "code",
   "execution_count": null,
   "id": "d93432e8f4ac9dd5",
   "metadata": {},
   "outputs": [],
   "source": [
    "a=np.array([[1,2,3],\n",
    "           [4,5,6]])     # 创建矩阵\n",
    "print(a[0,2])            # 访问元素\n",
    "print(a[1,-2])\n",
    "a[1,2]=10.9              # 修改元素\n",
    "print(a)"
   ]
  },
  {
   "cell_type": "markdown",
   "id": "a950899927b6302a",
   "metadata": {},
   "source": [
    "### 花式索引（两层中括号）"
   ]
  },
  {
   "cell_type": "code",
   "id": "d3e01700e121d471",
   "metadata": {},
   "source": [
    "a=np.arange(0,90,10)\n",
    "print(a)\n",
    "print(a [ [0,2,4] ] )          # 注意有两个中括号，得到其中三个元素构成数组\n",
    "print()\n",
    "b=np.arange(1,17).reshape(4,4)\n",
    "print(b)\n",
    "print(b[ [1,3],[2,-1] ])       # 取两个数，第一个元素1行2列，第二个元素2行最后一列(行索引, 列索引)\n",
    "print(b[ [0,2,1],[2,3,-1] ])   # 取三个数，[0,2],[2,3],[1,-1]\n",
    "b[[0,1,2,3],[3,2,1,0]]=100     # 改变四个元素为100\n",
    "print(b)"
   ],
   "outputs": [],
   "execution_count": null
  },
  {
   "cell_type": "markdown",
   "id": "fc5ad66705d65511",
   "metadata": {},
   "source": [
    "### 访问数组切片\n"
   ]
  },
  {
   "cell_type": "code",
   "execution_count": null,
   "id": "8819c67a1399a3e7",
   "metadata": {},
   "outputs": [],
   "source": [
    "from IPython.display import Image\n",
    "Image(filename='C:\\\\Users\\\\Y.Y\\\\Pictures\\\\Jp\\\\1.png')"
   ]
  },
  {
   "cell_type": "markdown",
   "id": "123fcb53b0c0f920",
   "metadata": {
    "ExecuteTime": {
     "end_time": "2025-08-15T02:48:12.628006Z",
     "start_time": "2025-08-15T02:48:12.615108Z"
    }
   },
   "source": [
    "- 向量切片"
   ]
  },
  {
   "cell_type": "code",
   "execution_count": null,
   "id": "25de6ac58015f589",
   "metadata": {},
   "outputs": [],
   "source": [
    "a=np.arange(10)\n",
    "print(a)\n",
    "print(a[1:4])      # 从索引[1]切到索引[4]（不包含）\n",
    "print(a[ : ])      # 不填则从头切到尾\n",
    "print(a[2:-2])     # 理解为切头两个，切尾两个\n",
    "print(a[1:-1:2])   # 切除一头一尾，每两个元素采样一次"
   ]
  },
  {
   "cell_type": "markdown",
   "id": "64867b721c6e325b",
   "metadata": {},
   "source": [
    "- 矩阵切片"
   ]
  },
  {
   "cell_type": "code",
   "execution_count": null,
   "id": "d41b1da45474af70",
   "metadata": {},
   "outputs": [],
   "source": [
    "a=np.arange(20).reshape(4,-1)\n",
    "print(a)\n",
    "print()\n",
    "print(a[1:3,1:-1])           # 矩阵切片，从第二行到第四行（不包含），从第二列到倒数第一列（不包含）；a[行控制，列控制]\n",
    "print()\n",
    "print(a[::3,::2])            # 行隔两行采样一次，列隔一列采样一次，都从头到尾"
   ]
  },
  {
   "cell_type": "markdown",
   "id": "12e32b7d993f6852",
   "metadata": {},
   "source": [
    "- 提取矩阵的行"
   ]
  },
  {
   "cell_type": "code",
   "execution_count": null,
   "id": "f939b85931f60e21",
   "metadata": {},
   "outputs": [],
   "source": [
    "a=np.arange(20).reshape(4,-1)\n",
    "print(a)\n",
    "print()\n",
    "print(a[2,:])                # 提取第三行，行号从0开始。简写方法：print(a[2])\n",
    "print()\n",
    "print(a[1:3,:])              # 提取第二行到第四行（不包含）"
   ]
  },
  {
   "cell_type": "markdown",
   "id": "b86a1599061a8ef7",
   "metadata": {},
   "source": [
    "- 提取矩阵的列"
   ]
  },
  {
   "cell_type": "code",
   "execution_count": null,
   "id": "f553c52c15cd44bb",
   "metadata": {},
   "outputs": [],
   "source": [
    "a=np.arange(20).reshape(4,-1)\n",
    "print(a)\n",
    "print()\n",
    "print(a[:,3])                # 提取第四个列，列号从0开始。得到一个一维数组（向量）。默认为向量是为了省空间\n",
    "print()\n",
    "print(a[:,1:3])              # 提取第一二列\n",
    "print()\n",
    "print(a[:,3].reshape(-1,1))  # 得到列矩阵\n",
    "print()\n",
    "print(a[:,3].reshape(1,-1).T)# 用转置.T命令得到列矩阵"
   ]
  },
  {
   "cell_type": "markdown",
   "id": "636223c12cf0e041",
   "metadata": {},
   "source": [
    "### 数组切片仅是视图\n",
    "“视图”（view）是指切片不复制原序列的数据，而是指向原序列中的一部分。它就像一个 “窗口”，通过这个窗口你能看到原序列的特定片段，但窗口本身并不存储数据 —— 数据仍保存在原序列中。\n",
    "与之相对的是 “副本”（copy）：副本会复制原数据并独立存储，修改副本不会影响原序列。"
   ]
  },
  {
   "cell_type": "code",
   "execution_count": null,
   "id": "d39772ff3ee2b667",
   "metadata": {},
   "outputs": [],
   "source": [
    "# 切片会影响原数组。如果需要不改变原数组，可以使用.copy()方法创建副本。\n",
    "a=np.arange(10)\n",
    "print(a)\n",
    "cut=a[ :3]       # 切片生成视图\n",
    "print(cut)\n",
    "cut[0]=100\n",
    "print(a)         # 原数组a也被修改了"
   ]
  },
  {
   "cell_type": "code",
   "execution_count": null,
   "id": "dd1f0ebe0829c13a",
   "metadata": {},
   "outputs": [],
   "source": [
    "a=np.arange(10)\n",
    "print(a)\n",
    "b=a[ :3].copy()  # 用.copy创建拷贝切片\n",
    "print(b)\n",
    "b[0]=100         # b是a的副本，修改不会影响a\n",
    "print(b)\n",
    "print(a)"
   ]
  },
  {
   "cell_type": "markdown",
   "id": "1a41224d638203ee",
   "metadata": {},
   "source": [
    "### 数组赋值仅是绑定"
   ]
  },
  {
   "cell_type": "code",
   "execution_count": null,
   "id": "7efb7b63bad389c2",
   "metadata": {},
   "outputs": [],
   "source": [
    "a=np.arange(10)\n",
    "print(a)\n",
    "b=a\n",
    "b[0]=100        # b和a指向同一个内存空间，修改会影响两个变量\n",
    "print(a)"
   ]
  },
  {
   "cell_type": "code",
   "execution_count": null,
   "id": "d57d2d3dd6591563",
   "metadata": {},
   "outputs": [],
   "source": [
    "a=np.arange(10)\n",
    "print(a)\n",
    "b=a.copy()      # 用.copy创建拷贝\n",
    "b[0]=100        # b是a的副本，修改不会影响a\n",
    "print(a)"
   ]
  },
  {
   "cell_type": "markdown",
   "id": "bfb8eed1fe509f9c",
   "metadata": {},
   "source": [
    "# 四、数组的变形"
   ]
  },
  {
   "cell_type": "markdown",
   "id": "3c65be5631acb016",
   "metadata": {
    "ExecuteTime": {
     "end_time": "2025-08-15T03:49:17.660666Z",
     "start_time": "2025-08-15T03:49:17.657140Z"
    }
   },
   "source": [
    "### 数组的转置\n",
    "- 数组的转置方法.T只对矩阵有效。因此遇到向量先将向量变成矩阵再进行转置。"
   ]
  },
  {
   "cell_type": "code",
   "execution_count": null,
   "id": "f4aac6a1a780daf9",
   "metadata": {},
   "outputs": [],
   "source": [
    "a=np.arange(1,4)    # 创建向量\n",
    "print(a)\n",
    "b=a.reshape((1,-1)) # 升级为矩阵后转置（或者直接写成（-1，1）一步到位）\n",
    "print(b)\n",
    "c=b.T               # 转置\n",
    "print(c)"
   ]
  },
  {
   "cell_type": "markdown",
   "id": "f7a77df43c370609",
   "metadata": {},
   "source": [
    "### 矩阵的转置"
   ]
  },
  {
   "cell_type": "code",
   "execution_count": null,
   "id": "a0ef8ada07a65f07",
   "metadata": {},
   "outputs": [],
   "source": [
    "a=np.arange(9).reshape((3,3))    # 创建矩阵\n",
    "print(a)\n",
    "b=a.T                            # 转置\n",
    "print(b)"
   ]
  },
  {
   "cell_type": "markdown",
   "id": "f606cdb358331c7f",
   "metadata": {
    "ExecuteTime": {
     "end_time": "2025-08-15T03:56:17.593515Z",
     "start_time": "2025-08-15T03:56:17.588612Z"
    }
   },
   "source": [
    "### 数组的翻转\n",
    "- 上下翻转：np.flipud()\n",
    "- 左右翻转：np.fliplr()\n",
    "- 向量只能上下翻转，在数学中向量是竖着排的"
   ]
  },
  {
   "cell_type": "markdown",
   "id": "547cfc80981efd66",
   "metadata": {},
   "source": [
    "- 向量的翻转"
   ]
  },
  {
   "cell_type": "code",
   "execution_count": null,
   "id": "ddfbe1010d9d46e9",
   "metadata": {},
   "outputs": [],
   "source": [
    "a=np.arange(10)\n",
    "print(a)\n",
    "b=np.flipud(a)   # 只能上下翻转\n",
    "print(b)"
   ]
  },
  {
   "cell_type": "markdown",
   "id": "87fe61b6ac21dad6",
   "metadata": {},
   "source": [
    "- 矩阵的翻转"
   ]
  },
  {
   "cell_type": "code",
   "execution_count": null,
   "id": "1878e6aa4f9d2380",
   "metadata": {},
   "outputs": [],
   "source": [
    "a=np.arange(20).reshape(4,-1)\n",
    "print(a)\n",
    "print()\n",
    "b=np.flipud(a)              # 上下翻转\n",
    "c=np.fliplr(a)              # 左右翻转\n",
    "print(b)\n",
    "print()\n",
    "print(c)"
   ]
  },
  {
   "cell_type": "markdown",
   "id": "9229c36fbc640e90",
   "metadata": {},
   "source": [
    "### 数组的重塑"
   ]
  },
  {
   "cell_type": "markdown",
   "id": "74efc2b893df03fe",
   "metadata": {},
   "source": [
    "- 数组的变形"
   ]
  },
  {
   "cell_type": "code",
   "execution_count": null,
   "id": "3368c2c71c33a325",
   "metadata": {},
   "outputs": [],
   "source": [
    "a=np.arange(1,10)\n",
    "b=a.reshape(3,-1)          # 变形为矩阵\n",
    "print(a)\n",
    "print()\n",
    "print(b)"
   ]
  },
  {
   "cell_type": "markdown",
   "id": "d62dfaa19a77c94f",
   "metadata": {},
   "source": [
    "- 矩阵的变形"
   ]
  },
  {
   "cell_type": "code",
   "execution_count": null,
   "id": "eca92d6c482f4402",
   "metadata": {},
   "outputs": [],
   "source": [
    "a=np.array([[1,2,3],\n",
    "            [4,5,6]\n",
    "])\n",
    "b=a.reshape(3,-1)          # 变形矩阵\n",
    "print(b)\n",
    "print()\n",
    "c=a.reshape(-1)            # 变形为向量\n",
    "print(c)"
   ]
  },
  {
   "cell_type": "markdown",
   "id": "5d399608b48313ff",
   "metadata": {},
   "source": [
    "### 数组的拼接"
   ]
  },
  {
   "cell_type": "markdown",
   "id": "f4829b9db3590a8c",
   "metadata": {},
   "source": [
    "- 向量的拼接"
   ]
  },
  {
   "cell_type": "code",
   "execution_count": null,
   "id": "d5e0a4516d212a71",
   "metadata": {},
   "outputs": [],
   "source": [
    "a=np.array([1,2,3])\n",
    "b=np.array([4,5,6])\n",
    "c=np.concatenate((a,b))    # 沿着第一个维度拼接\n",
    "print(c)"
   ]
  },
  {
   "cell_type": "markdown",
   "id": "8c87c9cd2d5fe4db",
   "metadata": {},
   "source": [
    "- 矩阵的拼接"
   ]
  },
  {
   "cell_type": "code",
   "execution_count": null,
   "id": "507da387941e6032",
   "metadata": {},
   "outputs": [],
   "source": [
    "a=np.array([[1,2,3],\n",
    "            [4,5,6]\n",
    "           ])\n",
    "b=np.array([[7,8,9],\n",
    "            [10,11,12]\n",
    "           ])\n",
    "c=np.concatenate([a,b])          # 默认参数axis=0（以行的方式拼接）\n",
    "print(c)\n",
    "d=np.concatenate([a,b],axis=1)   # 设定参数axis=1（以列的参数拼接）\n",
    "print(d)"
   ]
  },
  {
   "cell_type": "markdown",
   "id": "58955605a7c7e568",
   "metadata": {},
   "source": [
    "### 数组的分裂"
   ]
  },
  {
   "cell_type": "markdown",
   "id": "c53c1bac83f04484",
   "metadata": {
    "ExecuteTime": {
     "end_time": "2025-08-15T04:18:25.996854Z",
     "start_time": "2025-08-15T04:18:25.974009Z"
    }
   },
   "source": [
    "- 向量的分裂"
   ]
  },
  {
   "cell_type": "code",
   "execution_count": null,
   "id": "1d520487e0dd4df8",
   "metadata": {},
   "outputs": [],
   "source": [
    "a=np.arange(10,100,10)\n",
    "print(a)\n",
    "b,c,d=np.split(a,[2,8])     # 沿着第一个维度分裂成3个数组(2处砍一刀，8处砍一刀）\n",
    "print(b)\n",
    "print(c)\n",
    "print(d)"
   ]
  },
  {
   "cell_type": "markdown",
   "id": "f5948567655fb304",
   "metadata": {},
   "source": [
    "- 矩阵的分裂"
   ]
  },
  {
   "cell_type": "code",
   "execution_count": null,
   "id": "c5975fced201ed32",
   "metadata": {},
   "outputs": [],
   "source": [
    "arr=np.arange(1,9).reshape((2,-1))\n",
    "print(arr,'\\n')\n",
    "a,b=np.split(arr,[1])              # 沿着第一个维度（行）分裂成两个数组，默认参数axis=0，行操作\n",
    "print(a,'\\n\\n',b)                  # 得到矩阵\n",
    "print()\n",
    "c,d,e=np.split(arr,[2,3],axis=1)   # 沿着第二个维度（列）分裂成三个数组，axis=1，列操作\n",
    "print(c)\n",
    "print()\n",
    "print(d)\n",
    "print()\n",
    "print(e)"
   ]
  }
 ],
 "metadata": {
  "kernelspec": {
   "display_name": "CL",
   "language": "python",
   "name": "cl"
  },
  "language_info": {
   "codemirror_mode": {
    "name": "ipython",
    "version": 3
   },
   "file_extension": ".py",
   "mimetype": "text/x-python",
   "name": "python",
   "nbconvert_exporter": "python",
   "pygments_lexer": "ipython3",
   "version": "3.10.18"
  }
 },
 "nbformat": 4,
 "nbformat_minor": 5
}
