{
 "cells": [
  {
   "metadata": {},
   "cell_type": "markdown",
   "source": [
    "<div style=\"font-family:'Microsoft YaHei','Noto Sans',Arial,sans-serif;\n",
    "            font-size:16px;\n",
    "            line-height:1.7;\n",
    "            word-wrap:break-word;\n",
    "            white-space:normal;\n",
    "            background-color:#2a2a2a;\n",
    "            color:#d8d8d8;\n",
    "            padding:14px 16px;\n",
    "            border-radius:10px;\">\n",
    "\n",
    "# 流水线（Pipeline）\n",
    "将数据从原始格式转化为最终模型并投入使用的自动化、可重复的端到端工作流。\n",
    "\n",
    "一个典型的机器学习流水线包含以下主要阶段，这些阶段按顺序连接：\n",
    "\n",
    "1. **数据获取与 ingestion**\n",
    "    - 从各种数据源（数据库、数据仓库、CSV文件、API等）收集原始数据。\n",
    "\n",
    "2. **数据预处理与清洗**\n",
    "   - 处理缺失值：填充或删除缺失数据。\n",
    "   - 处理异常值：识别并处理异常数据点。\n",
    "   - 编码分类变量：将文本类别（如“男”、“女”）转换为模型能理解的数字（如 One-Hot 编码、标签编码）。\n",
    "   - 数据验证：检查数据是否符合预期（如特征的数据类型、取值范围）。\n",
    "\n",
    "</div>\n"
   ],
   "id": "cb2b82353530472a"
  },
  {
   "metadata": {},
   "cell_type": "markdown",
   "source": [
    "<div style=\"font-family:'Microsoft YaHei','Noto Sans',Arial,sans-serif;\n",
    "            font-size:16px;\n",
    "            line-height:1.7;\n",
    "            word-wrap:break-word;\n",
    "            white-space:normal;\n",
    "            background-color:#1e1e1e;\n",
    "            color:#d0d0d0;\n",
    "            padding:14px 16px;\n",
    "            border-radius:10px;\">\n",
    "\n",
    "\n",
    "# 流水线（Pipeline）\n",
    "将数据从原始格式转化为最终模型并投入使用的自动化、可重复的端到端工作流。\n",
    "\n",
    "一个典型的机器学习流水线包含以下主要阶段，这些阶段按顺序连接：\n",
    "\n",
    "1. **数据获取与 ingestion**\n",
    "   - 从各种数据源（数据库、数据仓库、CSV文件、API等）收集原始数据。\n",
    "\n",
    "2. **数据预处理与清洗**\n",
    "   - 处理缺失值：填充或删除缺失数据。\n",
    "   - 处理异常值：识别并处理异常数据点。\n",
    "   - 编码分类变量：将文本类别（如“男”、“女”）转换为模型能理解的数字（如 One-Hot 编码、标签编码）。\n",
    "   - 数据验证：检查数据是否符合预期（如特征的数据类型、取值范围）。\n",
    "\n",
    "</div>\n"
   ],
   "id": "2683dff301395688"
  },
  {
   "metadata": {},
   "cell_type": "markdown",
   "source": [
    "<div style=\"font-family:'Microsoft YaHei','Noto Sans',Arial,sans-serif;\n",
    "            font-size:16px;\n",
    "            line-height:1.7;\n",
    "            background-color:#f5f2e8;\n",
    "            color:#333333;\n",
    "            padding:14px 18px;\n",
    "            border-radius:10px;\">\n",
    "\n",
    "# 流水线（Pipeline）\n",
    "将数据从原始格式转化为最终模型并投入使用的自动化、可重复的端到端工作流。\n",
    "\n",
    "一个典型的机器学习流水线包含以下主要阶段，这些阶段按顺序连接：\n",
    "\n",
    "1. **数据获取与 ingestion**\n",
    "   - 从各种数据源（数据库、数据仓库、CSV文件、API等）收集原始数据。\n",
    "\n",
    "2. **数据预处理与清洗**\n",
    "   - 处理缺失值：填充或删除缺失数据。\n",
    "   - 处理异常值：识别并处理异常数据点。\n",
    "   - 编码分类变量：将文本类别（如“男”、“女”）转换为模型能理解的数字（如 One-Hot 编码、标签编码）。\n",
    "   - 数据验证：检查数据是否符合预期（如特征的数据类型、取值范围）。\n",
    "\n",
    "</div>"
   ],
   "id": "19aa021f15181269"
  }
 ],
 "metadata": {
  "kernelspec": {
   "display_name": "Python 3",
   "language": "python",
   "name": "python3"
  },
  "language_info": {
   "codemirror_mode": {
    "name": "ipython",
    "version": 2
   },
   "file_extension": ".py",
   "mimetype": "text/x-python",
   "name": "python",
   "nbconvert_exporter": "python",
   "pygments_lexer": "ipython2",
   "version": "2.7.6"
  }
 },
 "nbformat": 4,
 "nbformat_minor": 5
}
