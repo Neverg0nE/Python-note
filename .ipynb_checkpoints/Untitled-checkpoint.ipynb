{
 "cells": [
  {
   "metadata": {},
   "cell_type": "raw",
   "source": "",
   "id": "5df9c3b4cc1def31"
  }
 ],
 "metadata": {},
 "nbformat": 4,
 "nbformat_minor": 5
}
